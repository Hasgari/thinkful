{
 "cells": [
  {
   "cell_type": "markdown",
   "metadata": {},
   "source": [
    "In this drill, we practice some of the famous statistical distributions, including how their histogram looks like, what their mean and standard deviations are, and how these statistics will help us describe the data. "
   ]
  },
  {
   "cell_type": "code",
   "execution_count": 1,
   "metadata": {},
   "outputs": [],
   "source": [
    "import numpy as np\n",
    "import pandas as pd\n",
    "import matplotlib.pyplot as plt\n",
    "%matplotlib inline"
   ]
  },
  {
   "cell_type": "markdown",
   "metadata": {},
   "source": [
    "1) Binomial Distribution with number of experiments=10 and Success Probability=0.6"
   ]
  },
  {
   "cell_type": "code",
   "execution_count": 2,
   "metadata": {},
   "outputs": [],
   "source": [
    "x = np.random.binomial(10,0.6,100)"
   ]
  },
  {
   "cell_type": "code",
   "execution_count": 3,
   "metadata": {},
   "outputs": [
    {
     "name": "stdout",
     "output_type": "stream",
     "text": [
      "[7 9 4 6 8 8 3 6 8 6 6 7 4 5 7 7 4 9 4 5 6 3 7 4 4 4 7 7 7 5 5 8 6 5 9 5 8\n",
      " 6 5 9 5 8 7 7 4 7 6 7 5 5 5 5 5 4 6 5 8 5 4 1 8 5 2 7 7 7 6 7 4 4 5 6 3 5\n",
      " 6 7 5 8 5 5 7 8 8 4 8 8 5 8 4 7 7 5 5 5 7 5 8 4 5 8]\n"
     ]
    }
   ],
   "source": [
    "print(x)"
   ]
  },
  {
   "cell_type": "code",
   "execution_count": 4,
   "metadata": {},
   "outputs": [
    {
     "data": {
      "text/plain": [
       "(array([ 0.,  1.,  1.,  3., 15., 27., 12., 21., 20.]),\n",
       " array([0, 1, 2, 3, 4, 5, 6, 7, 8, 9]),\n",
       " <a list of 9 Patch objects>)"
      ]
     },
     "execution_count": 4,
     "metadata": {},
     "output_type": "execute_result"
    },
    {
     "data": {
      "image/png": "[encoded data removed]",
      "text/plain": [
       "<Figure size 432x288 with 1 Axes>"
      ]
     },
     "metadata": {
      "needs_background": "light"
     },
     "output_type": "display_data"
    }
   ],
   "source": [
    "plt.hist(x,bins=np.arange(0,10,1))"
   ]
  },
  {
   "cell_type": "code",
   "execution_count": 5,
   "metadata": {},
   "outputs": [],
   "source": [
    "Mu = x.mean()\n",
    "Sigma = x.std()"
   ]
  },
  {
   "cell_type": "code",
   "execution_count": 6,
   "metadata": {},
   "outputs": [
    {
     "name": "stdout",
     "output_type": "stream",
     "text": [
      "Mean = 5.9\n",
      "Standard deviation = 1.658\n"
     ]
    }
   ],
   "source": [
    "print(\"Mean = \"+ str(round(Mu,3)) + \"\\nStandard deviation = \" + str(round(Sigma,3)))"
   ]
  },
  {
   "cell_type": "code",
   "execution_count": 7,
   "metadata": {},
   "outputs": [
    {
     "data": {
      "text/plain": [
       "<matplotlib.lines.Line2D at 0x7f0a95687cc0>"
      ]
     },
     "execution_count": 7,
     "metadata": {},
     "output_type": "execute_result"
    },
    {
     "data": {
      "image/png": "[encoded data removed]",
      "text/plain": [
       "<Figure size 432x288 with 1 Axes>"
      ]
     },
     "metadata": {
      "needs_background": "light"
     },
     "output_type": "display_data"
    }
   ],
   "source": [
    "plt.hist(x,bins=np.arange(0,10,1))\n",
    "plt.axvline(Mu, color='r', linestyle='solid', linewidth=4)\n",
    "plt.axvline(Mu+Sigma, color='r', linestyle='dashed', linewidth=2)\n",
    "plt.axvline(Mu-Sigma, color='r', linestyle='dashed', linewidth=2)"
   ]
  },
  {
   "cell_type": "markdown",
   "metadata": {},
   "source": [
    "2) Bernoulli Distribution with Success Probability=0.5"
   ]
  },
  {
   "cell_type": "code",
   "execution_count": 8,
   "metadata": {},
   "outputs": [
    {
     "name": "stdout",
     "output_type": "stream",
     "text": [
      "Mean = 0.46\n",
      "Standard deviation = 0.498\n"
     ]
    },
    {
     "data": {
      "text/plain": [
       "<matplotlib.lines.Line2D at 0x7f0a956016a0>"
      ]
     },
     "execution_count": 8,
     "metadata": {},
     "output_type": "execute_result"
    },
    {
     "data": {
      "image/png": "[encoded data removed]",
      "text/plain": [
       "<Figure size 432x288 with 1 Axes>"
      ]
     },
     "metadata": {
      "needs_background": "light"
     },
     "output_type": "display_data"
    }
   ],
   "source": [
    "x = np.random.binomial(1,0.5,100)\n",
    "Mu = x.mean()\n",
    "Sigma = x.std()\n",
    "print(\"Mean = \"+ str(round(Mu,3)) + \"\\nStandard deviation = \" + str(round(Sigma,3)))\n",
    "plt.hist(x,bins=np.arange(0,5,1))\n",
    "plt.axvline(Mu, color='r', linestyle='solid', linewidth=4)\n",
    "plt.axvline(Mu+Sigma, color='r', linestyle='dashed', linewidth=2)\n",
    "plt.axvline(Mu-Sigma, color='r', linestyle='dashed', linewidth=2)"
   ]
  },
  {
   "cell_type": "markdown",
   "metadata": {},
   "source": [
    "3) Poisson Distribution with lambda=2"
   ]
  },
  {
   "cell_type": "code",
   "execution_count": 9,
   "metadata": {},
   "outputs": [
    {
     "name": "stdout",
     "output_type": "stream",
     "text": [
      "Mean = 1.95\n",
      "Standard deviation = 1.388\n"
     ]
    },
    {
     "data": {
      "text/plain": [
       "<matplotlib.lines.Line2D at 0x7f0a95574860>"
      ]
     },
     "execution_count": 9,
     "metadata": {},
     "output_type": "execute_result"
    },
    {
     "data": {
      "image/png": "[encoded data removed]",
      "text/plain": [
       "<Figure size 432x288 with 1 Axes>"
      ]
     },
     "metadata": {
      "needs_background": "light"
     },
     "output_type": "display_data"
    }
   ],
   "source": [
    "x = np.random.poisson(2,100)\n",
    "Mu = x.mean()\n",
    "Sigma = x.std()\n",
    "print(\"Mean = \"+ str(round(Mu,3)) + \"\\nStandard deviation = \" + str(round(Sigma,3)))\n",
    "plt.hist(x,bins=np.arange(0,5,1))\n",
    "plt.axvline(Mu, color='r', linestyle='solid', linewidth=4)\n",
    "plt.axvline(Mu+Sigma, color='r', linestyle='dashed', linewidth=2)\n",
    "plt.axvline(Mu-Sigma, color='r', linestyle='dashed', linewidth=2)"
   ]
  },
  {
   "cell_type": "markdown",
   "metadata": {},
   "source": [
    "4) Gamma Distribution with shape parameter=5 and scale parameter=2"
   ]
  },
  {
   "cell_type": "code",
   "execution_count": 10,
   "metadata": {},
   "outputs": [
    {
     "name": "stdout",
     "output_type": "stream",
     "text": [
      "Mean = 10.197\n",
      "Standard deviation = 4.02\n"
     ]
    },
    {
     "data": {
      "text/plain": [
       "<matplotlib.lines.Line2D at 0x7f0a95504b00>"
      ]
     },
     "execution_count": 10,
     "metadata": {},
     "output_type": "execute_result"
    },
    {
     "data": {
      "image/png": "[encoded data removed]",
      "text/plain": [
       "<Figure size 432x288 with 1 Axes>"
      ]
     },
     "metadata": {
      "needs_background": "light"
     },
     "output_type": "display_data"
    }
   ],
   "source": [
    "x = np.random.gamma(5,2,100)\n",
    "Mu = x.mean()\n",
    "Sigma = x.std()\n",
    "print(\"Mean = \"+ str(round(Mu,3)) + \"\\nStandard deviation = \" + str(round(Sigma,3)))\n",
    "plt.hist(x,bins=np.arange(0,20,1))\n",
    "plt.axvline(Mu, color='r', linestyle='solid', linewidth=4)\n",
    "plt.axvline(Mu+Sigma, color='r', linestyle='dashed', linewidth=2)\n",
    "plt.axvline(Mu-Sigma, color='r', linestyle='dashed', linewidth=2)"
   ]
  },
  {
   "cell_type": "code",
   "execution_count": 11,
   "metadata": {},
   "outputs": [],
   "source": [
    "y1 = np.random.normal(5,0.5,1000)\n",
    "y2 = np.random.normal(10,1,1000)\n",
    "y3 = y1 + y2"
   ]
  },
  {
   "cell_type": "code",
   "execution_count": 12,
   "metadata": {},
   "outputs": [
    {
     "data": {
      "text/plain": [
       "<matplotlib.lines.Line2D at 0x7f0a95410240>"
      ]
     },
     "execution_count": 12,
     "metadata": {},
     "output_type": "execute_result"
    },
    {
     "data": {
      "image/png": "[encoded data removed]",
      "text/plain": [
       "<Figure size 432x288 with 1 Axes>"
      ]
     },
     "metadata": {
      "needs_background": "light"
     },
     "output_type": "display_data"
    }
   ],
   "source": [
    "plt.hist(y3)\n",
    "plt.axvline(y3.mean(), color='r', linestyle='solid', linewidth=4)\n",
    "plt.axvline(y3.mean()+y3.std(), color='r', linestyle='dashed', linewidth=2)\n",
    "plt.axvline(y3.mean()-y3.std(), color='r', linestyle='dashed', linewidth=2)"
   ]
  },
  {
   "cell_type": "code",
   "execution_count": null,
   "metadata": {},
   "outputs": [],
   "source": []
  }
 ],
 "metadata": {
  "kernelspec": {
   "display_name": "Python 3",
   "language": "python",
   "name": "python3"
  },
  "language_info": {
   "codemirror_mode": {
    "name": "ipython",
    "version": 3
   },
   "file_extension": ".py",
   "mimetype": "text/x-python",
   "name": "python",
   "nbconvert_exporter": "python",
   "pygments_lexer": "ipython3",
   "version": "3.6.7"
  }
 },
 "nbformat": 4,
 "nbformat_minor": 2
}
