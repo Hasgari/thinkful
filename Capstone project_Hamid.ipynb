{
 "cells": [
  {
   "cell_type": "markdown",
   "metadata": {},
   "source": [
    "This dataset provides information on immigration procedure of refugees based on their country of origin and country of residence between 1975 and 2016. By looking at the data, we are trying to answer a couple of questions using our data science capabilities.\n",
    "http://data.un.org/Data.aspx?d=UNHCR&f=indID%3aType-Ref"
   ]
  },
  {
   "cell_type": "markdown",
   "metadata": {},
   "source": [
    "Question 1) What has been the overall trend in number of refugees in the study period? what are the top 5 years with the highest and lowest number of refugees?"
   ]
  },
  {
   "cell_type": "code",
   "execution_count": null,
   "metadata": {},
   "outputs": [],
   "source": [
    "import pandas as pd\n",
    "import numpy as np\n",
    "import matplotlib.pyplot as plt\n",
    "import cufflinks as cf\n",
    "cf.go_offline()"
   ]
  },
  {
   "cell_type": "code",
   "execution_count": 3,
   "metadata": {},
   "outputs": [],
   "source": [
    "df = pd.read_csv(\"UNdata_Refugee.csv\")"
   ]
  },
  {
   "cell_type": "code",
   "execution_count": 7,
   "metadata": {},
   "outputs": [],
   "source": [
    "df.columns = ['Country or territory of asylum or residence',\n",
    "       'Country or territory of origin', 'Year', 'Refugees',\n",
    "       'Refugees assisted by UNHCR',\n",
    "       'Total refugees and people in refugee-like situations',\n",
    "       'Total refugees and people in refugee-like situations assisted by UNHCR']"
   ]
  },
  {
   "cell_type": "code",
   "execution_count": 8,
   "metadata": {},
   "outputs": [
    {
     "data": {
      "text/html": [
       "<div>\n",
       "<style scoped>\n",
       "    .dataframe tbody tr th:only-of-type {\n",
       "        vertical-align: middle;\n",
       "    }\n",
       "\n",
       "    .dataframe tbody tr th {\n",
       "        vertical-align: top;\n",
       "    }\n",
       "\n",
       "    .dataframe thead th {\n",
       "        text-align: right;\n",
       "    }\n",
       "</style>\n",
       "<table border=\"1\" class=\"dataframe\">\n",
       "  <thead>\n",
       "    <tr style=\"text-align: right;\">\n",
       "      <th></th>\n",
       "      <th>Country or territory of asylum or residence</th>\n",
       "      <th>Country or territory of origin</th>\n",
       "      <th>Year</th>\n",
       "      <th>Refugees</th>\n",
       "      <th>Refugees assisted by UNHCR</th>\n",
       "      <th>Total refugees and people in refugee-like situations</th>\n",
       "      <th>Total refugees and people in refugee-like situations assisted by UNHCR</th>\n",
       "    </tr>\n",
       "  </thead>\n",
       "  <tbody>\n",
       "    <tr>\n",
       "      <th>0</th>\n",
       "      <td>Afghanistan</td>\n",
       "      <td>Iraq</td>\n",
       "      <td>2016.0</td>\n",
       "      <td>1.0</td>\n",
       "      <td>1.0</td>\n",
       "      <td>1.0</td>\n",
       "      <td>1.0</td>\n",
       "    </tr>\n",
       "    <tr>\n",
       "      <th>1</th>\n",
       "      <td>Afghanistan</td>\n",
       "      <td>Islamic Rep. of Iran</td>\n",
       "      <td>2016.0</td>\n",
       "      <td>33.0</td>\n",
       "      <td>33.0</td>\n",
       "      <td>33.0</td>\n",
       "      <td>33.0</td>\n",
       "    </tr>\n",
       "    <tr>\n",
       "      <th>2</th>\n",
       "      <td>Afghanistan</td>\n",
       "      <td>Pakistan</td>\n",
       "      <td>2016.0</td>\n",
       "      <td>59737.0</td>\n",
       "      <td>59737.0</td>\n",
       "      <td>59737.0</td>\n",
       "      <td>59737.0</td>\n",
       "    </tr>\n",
       "    <tr>\n",
       "      <th>3</th>\n",
       "      <td>Albania</td>\n",
       "      <td>China</td>\n",
       "      <td>2016.0</td>\n",
       "      <td>11.0</td>\n",
       "      <td>11.0</td>\n",
       "      <td>11.0</td>\n",
       "      <td>11.0</td>\n",
       "    </tr>\n",
       "    <tr>\n",
       "      <th>4</th>\n",
       "      <td>Albania</td>\n",
       "      <td>Dem. Rep. of the Congo</td>\n",
       "      <td>2016.0</td>\n",
       "      <td>3.0</td>\n",
       "      <td>3.0</td>\n",
       "      <td>3.0</td>\n",
       "      <td>3.0</td>\n",
       "    </tr>\n",
       "  </tbody>\n",
       "</table>\n",
       "</div>"
      ],
      "text/plain": [
       "  Country or territory of asylum or residence Country or territory of origin  \\\n",
       "0                                 Afghanistan                           Iraq   \n",
       "1                                 Afghanistan           Islamic Rep. of Iran   \n",
       "2                                 Afghanistan                       Pakistan   \n",
       "3                                     Albania                          China   \n",
       "4                                     Albania         Dem. Rep. of the Congo   \n",
       "\n",
       "     Year  Refugees  Refugees assisted by UNHCR  \\\n",
       "0  2016.0       1.0                         1.0   \n",
       "1  2016.0      33.0                        33.0   \n",
       "2  2016.0   59737.0                     59737.0   \n",
       "3  2016.0      11.0                        11.0   \n",
       "4  2016.0       3.0                         3.0   \n",
       "\n",
       "   Total refugees and people in refugee-like situations  \\\n",
       "0                                                1.0      \n",
       "1                                               33.0      \n",
       "2                                            59737.0      \n",
       "3                                               11.0      \n",
       "4                                                3.0      \n",
       "\n",
       "   Total refugees and people in refugee-like situations assisted by UNHCR  \n",
       "0                                                1.0                       \n",
       "1                                               33.0                       \n",
       "2                                            59737.0                       \n",
       "3                                               11.0                       \n",
       "4                                                3.0                       "
      ]
     },
     "execution_count": 8,
     "metadata": {},
     "output_type": "execute_result"
    }
   ],
   "source": [
    "df.head(5)"
   ]
  },
  {
   "cell_type": "code",
   "execution_count": 9,
   "metadata": {},
   "outputs": [],
   "source": [
    "year_refugees = df.groupby(df[\"Year\"])[\"Refugees\"].sum().sort_values()"
   ]
  },
  {
   "cell_type": "code",
   "execution_count": 11,
   "metadata": {},
   "outputs": [
    {
     "data": {
      "application/vnd.plotly.v1+json": {
       "config": {
        "linkText": "Export to plot.ly",
        "plotlyServerURL": "https://plot.ly",
        "showLink": true
       },
       "data": [
        {
         "marker": {
          "color": "rgba(255, 153, 51, 0.6)",
          "line": {
           "color": "rgba(255, 153, 51, 1.0)",
           "width": 1
          }
         },
         "name": "Refugees",
         "orientation": "v",
         "text": "",
         "type": "bar",
         "uid": "2dcc9fba-c247-431d-9eab-8678488bbc0d",
         "x": [
          1975,
          1976,
          1977,
          1978,
          1979,
          1980,
          2005,
          2009,
          2008,
          2004,
          2003,
          2007,
          1981,
          2011,
          2006,
          2012,
          2010,
          1982,
          2002,
          1983,
          1984,
          2013,
          1998,
          1999,
          1985,
          1997,
          2001,
          2000,
          1986,
          1987,
          1996,
          2014,
          1988,
          1989,
          1995,
          2015,
          1994,
          1993,
          2016,
          1991,
          1990,
          1992
         ],
         "y": [
          3529434,
          4270631,
          4518659,
          5065844,
          6279912,
          8454937,
          8661994,
          8806865,
          9061589,
          9573397,
          9592795,
          9679646,
          9714306,
          9800860,
          9877695,
          9879254,
          9952409,
          10319369,
          10594055,
          10620803,
          10728326,
          11000167,
          11480860,
          11687225,
          11863562,
          12015350,
          12116835,
          12129572,
          12633974,
          13128347,
          13357087,
          13690829,
          14347051,
          14732934,
          14896086,
          15479355,
          15753690,
          16325525,
          16533413,
          16854795,
          17395979,
          17838074
         ]
        }
       ],
       "layout": {
        "autosize": true,
        "legend": {
         "bgcolor": "#F5F6F9",
         "font": {
          "color": "#4D5663"
         }
        },
        "paper_bgcolor": "#F5F6F9",
        "plot_bgcolor": "#F5F6F9",
        "titlefont": {
         "color": "#4D5663"
        },
        "xaxis": {
         "autorange": true,
         "gridcolor": "#E1E5ED",
         "range": [
          1974.5,
          2016.5
         ],
         "showgrid": true,
         "tickfont": {
          "color": "#4D5663"
         },
         "title": "",
         "titlefont": {
          "color": "#4D5663"
         },
         "type": "linear",
         "zerolinecolor": "#E1E5ED"
        },
        "yaxis": {
         "autorange": true,
         "gridcolor": "#E1E5ED",
         "range": [
          0,
          18776920
         ],
         "showgrid": true,
         "tickfont": {
          "color": "#4D5663"
         },
         "title": "",
         "titlefont": {
          "color": "#4D5663"
         },
         "type": "linear",
         "zerolinecolor": "#E1E5ED"
        }
       }
      },
      "image/png": "[encoded data removed]",
      "text/html": [
       "<div id=\"15a3c18e-f2b9-4de5-9b3b-e464c2b22d51\" style=\"height: 525px; width: 100%;\" class=\"plotly-graph-div\"></div><script type=\"text/javascript\">require([\"plotly\"], function(Plotly) { window.PLOTLYENV=window.PLOTLYENV || {};window.PLOTLYENV.BASE_URL=\"https://plot.ly\";Plotly.newPlot(\"15a3c18e-f2b9-4de5-9b3b-e464c2b22d51\", [{\"marker\": {\"color\": \"rgba(255, 153, 51, 0.6)\", \"line\": {\"color\": \"rgba(255, 153, 51, 1.0)\", \"width\": 1}}, \"name\": \"Refugees\", \"orientation\": \"v\", \"text\": \"\", \"x\": [1975.0, 1976.0, 1977.0, 1978.0, 1979.0, 1980.0, 2005.0, 2009.0, 2008.0, 2004.0, 2003.0, 2007.0, 1981.0, 2011.0, 2006.0, 2012.0, 2010.0, 1982.0, 2002.0, 1983.0, 1984.0, 2013.0, 1998.0, 1999.0, 1985.0, 1997.0, 2001.0, 2000.0, 1986.0, 1987.0, 1996.0, 2014.0, 1988.0, 1989.0, 1995.0, 2015.0, 1994.0, 1993.0, 2016.0, 1991.0, 1990.0, 1992.0], \"y\": [3529434.0, 4270631.0, 4518659.0, 5065844.0, 6279912.0, 8454937.0, 8661994.0, 8806865.0, 9061589.0, 9573397.0, 9592795.0, 9679646.0, 9714306.0, 9800860.0, 9877695.0, 9879254.0, 9952409.0, 10319369.0, 10594055.0, 10620803.0, 10728326.0, 11000167.0, 11480860.0, 11687225.0, 11863562.0, 12015350.0, 12116835.0, 12129572.0, 12633974.0, 13128347.0, 13357087.0, 13690829.0, 14347051.0, 14732934.0, 14896086.0, 15479355.0, 15753690.0, 16325525.0, 16533413.0, 16854795.0, 17395979.0, 17838074.0], \"type\": \"bar\", \"uid\": \"26f97de6-74be-4c79-b60d-6e4962d512e6\"}], {\"legend\": {\"bgcolor\": \"#F5F6F9\", \"font\": {\"color\": \"#4D5663\"}}, \"paper_bgcolor\": \"#F5F6F9\", \"plot_bgcolor\": \"#F5F6F9\", \"titlefont\": {\"color\": \"#4D5663\"}, \"xaxis\": {\"gridcolor\": \"#E1E5ED\", \"showgrid\": true, \"tickfont\": {\"color\": \"#4D5663\"}, \"title\": \"\", \"titlefont\": {\"color\": \"#4D5663\"}, \"zerolinecolor\": \"#E1E5ED\"}, \"yaxis\": {\"gridcolor\": \"#E1E5ED\", \"showgrid\": true, \"tickfont\": {\"color\": \"#4D5663\"}, \"title\": \"\", \"titlefont\": {\"color\": \"#4D5663\"}, \"zerolinecolor\": \"#E1E5ED\"}}, {\"showLink\": true, \"linkText\": \"Export to plot.ly\", \"plotlyServerURL\": \"https://plot.ly\"})});</script><script type=\"text/javascript\">window.addEventListener(\"resize\", function(){window._Plotly.Plots.resize(document.getElementById(\"15a3c18e-f2b9-4de5-9b3b-e464c2b22d51\"));});</script>"
      ],
      "text/vnd.plotly.v1+html": [
       "<div id=\"15a3c18e-f2b9-4de5-9b3b-e464c2b22d51\" style=\"height: 525px; width: 100%;\" class=\"plotly-graph-div\"></div><script type=\"text/javascript\">require([\"plotly\"], function(Plotly) { window.PLOTLYENV=window.PLOTLYENV || {};window.PLOTLYENV.BASE_URL=\"https://plot.ly\";Plotly.newPlot(\"15a3c18e-f2b9-4de5-9b3b-e464c2b22d51\", [{\"marker\": {\"color\": \"rgba(255, 153, 51, 0.6)\", \"line\": {\"color\": \"rgba(255, 153, 51, 1.0)\", \"width\": 1}}, \"name\": \"Refugees\", \"orientation\": \"v\", \"text\": \"\", \"x\": [1975.0, 1976.0, 1977.0, 1978.0, 1979.0, 1980.0, 2005.0, 2009.0, 2008.0, 2004.0, 2003.0, 2007.0, 1981.0, 2011.0, 2006.0, 2012.0, 2010.0, 1982.0, 2002.0, 1983.0, 1984.0, 2013.0, 1998.0, 1999.0, 1985.0, 1997.0, 2001.0, 2000.0, 1986.0, 1987.0, 1996.0, 2014.0, 1988.0, 1989.0, 1995.0, 2015.0, 1994.0, 1993.0, 2016.0, 1991.0, 1990.0, 1992.0], \"y\": [3529434.0, 4270631.0, 4518659.0, 5065844.0, 6279912.0, 8454937.0, 8661994.0, 8806865.0, 9061589.0, 9573397.0, 9592795.0, 9679646.0, 9714306.0, 9800860.0, 9877695.0, 9879254.0, 9952409.0, 10319369.0, 10594055.0, 10620803.0, 10728326.0, 11000167.0, 11480860.0, 11687225.0, 11863562.0, 12015350.0, 12116835.0, 12129572.0, 12633974.0, 13128347.0, 13357087.0, 13690829.0, 14347051.0, 14732934.0, 14896086.0, 15479355.0, 15753690.0, 16325525.0, 16533413.0, 16854795.0, 17395979.0, 17838074.0], \"type\": \"bar\", \"uid\": \"26f97de6-74be-4c79-b60d-6e4962d512e6\"}], {\"legend\": {\"bgcolor\": \"#F5F6F9\", \"font\": {\"color\": \"#4D5663\"}}, \"paper_bgcolor\": \"#F5F6F9\", \"plot_bgcolor\": \"#F5F6F9\", \"titlefont\": {\"color\": \"#4D5663\"}, \"xaxis\": {\"gridcolor\": \"#E1E5ED\", \"showgrid\": true, \"tickfont\": {\"color\": \"#4D5663\"}, \"title\": \"\", \"titlefont\": {\"color\": \"#4D5663\"}, \"zerolinecolor\": \"#E1E5ED\"}, \"yaxis\": {\"gridcolor\": \"#E1E5ED\", \"showgrid\": true, \"tickfont\": {\"color\": \"#4D5663\"}, \"title\": \"\", \"titlefont\": {\"color\": \"#4D5663\"}, \"zerolinecolor\": \"#E1E5ED\"}}, {\"showLink\": true, \"linkText\": \"Export to plot.ly\", \"plotlyServerURL\": \"https://plot.ly\"})});</script><script type=\"text/javascript\">window.addEventListener(\"resize\", function(){window._Plotly.Plots.resize(document.getElementById(\"15a3c18e-f2b9-4de5-9b3b-e464c2b22d51\"));});</script>"
      ]
     },
     "metadata": {},
     "output_type": "display_data"
    }
   ],
   "source": [
    "year_refugees.iplot(kind=\"bar\")"
   ]
  },
  {
   "cell_type": "code",
   "execution_count": 12,
   "metadata": {},
   "outputs": [
    {
     "data": {
      "text/plain": [
       "Year\n",
       "1975.0    3529434.0\n",
       "1976.0    4270631.0\n",
       "1977.0    4518659.0\n",
       "1978.0    5065844.0\n",
       "1979.0    6279912.0\n",
       "Name: Refugees, dtype: float64"
      ]
     },
     "execution_count": 12,
     "metadata": {},
     "output_type": "execute_result"
    }
   ],
   "source": [
    "year_refugees.head(5)"
   ]
  },
  {
   "cell_type": "code",
   "execution_count": 13,
   "metadata": {},
   "outputs": [
    {
     "data": {
      "text/plain": [
       "Year\n",
       "1993.0    16325525.0\n",
       "2016.0    16533413.0\n",
       "1991.0    16854795.0\n",
       "1990.0    17395979.0\n",
       "1992.0    17838074.0\n",
       "Name: Refugees, dtype: float64"
      ]
     },
     "execution_count": 13,
     "metadata": {},
     "output_type": "execute_result"
    }
   ],
   "source": [
    "year_refugees.tail(5)"
   ]
  },
  {
   "cell_type": "markdown",
   "metadata": {},
   "source": [
    "Question 2) In the year with maximum number of refugees (1992), natives of which countries had the highest and lowest number of refugees? Plot the top 10 countries in a histogram."
   ]
  },
  {
   "cell_type": "code",
   "execution_count": 14,
   "metadata": {},
   "outputs": [],
   "source": [
    "refugees_highest_year = df[df[\"Year\"]==1992.0].groupby(df[\"Country or territory of origin\"])[\"Refugees\"].sum().sort_values()"
   ]
  },
  {
   "cell_type": "code",
   "execution_count": 15,
   "metadata": {},
   "outputs": [
    {
     "data": {
      "text/plain": [
       "Country or territory of origin\n",
       "Kazakhstan    1.0\n",
       "Greece        1.0\n",
       "Grenada       1.0\n",
       "Cabo Verde    1.0\n",
       "Italy         1.0\n",
       "Name: Refugees, dtype: float64"
      ]
     },
     "execution_count": 15,
     "metadata": {},
     "output_type": "execute_result"
    }
   ],
   "source": [
    "refugees_highest_year.head(5)"
   ]
  },
  {
   "cell_type": "code",
   "execution_count": 16,
   "metadata": {},
   "outputs": [
    {
     "data": {
      "text/plain": [
       "Country or territory of origin\n",
       "Somalia         812195.0\n",
       "Iraq           1343824.0\n",
       "Mozambique     1445474.0\n",
       "Various        3118510.0\n",
       "Afghanistan    4552153.0\n",
       "Name: Refugees, dtype: float64"
      ]
     },
     "execution_count": 16,
     "metadata": {},
     "output_type": "execute_result"
    }
   ],
   "source": [
    "refugees_highest_year.tail(5)"
   ]
  },
  {
   "cell_type": "code",
   "execution_count": 7,
   "metadata": {},
   "outputs": [
    {
     "data": {
      "text/plain": [
       "215"
      ]
     },
     "execution_count": 7,
     "metadata": {},
     "output_type": "execute_result"
    }
   ],
   "source": [
    "len(df[\"Country or territory of origin\"].unique())"
   ]
  },
  {
   "cell_type": "code",
   "execution_count": 17,
   "metadata": {},
   "outputs": [
    {
     "data": {
      "application/vnd.plotly.v1+json": {
       "config": {
        "linkText": "Export to plot.ly",
        "plotlyServerURL": "https://plot.ly",
        "showLink": true
       },
       "data": [
        {
         "marker": {
          "color": "rgba(255, 153, 51, 0.6)",
          "line": {
           "color": "rgba(255, 153, 51, 1.0)",
           "width": 1
          }
         },
         "name": "Refugees",
         "orientation": "v",
         "text": "",
         "type": "bar",
         "uid": "27be4ab3-d608-4641-bc7f-8bca77ef69d1",
         "x": [
          "Rwanda",
          "Bosnia and Herzegovina",
          "Eritrea",
          "Viet Nam",
          "Liberia",
          "Somalia",
          "Iraq",
          "Mozambique",
          "Various",
          "Afghanistan"
         ],
         "y": [
          434736,
          437501,
          503200,
          517111,
          520915,
          812195,
          1343824,
          1445474,
          3118510,
          4552153
         ]
        }
       ],
       "layout": {
        "autosize": true,
        "legend": {
         "bgcolor": "#F5F6F9",
         "font": {
          "color": "#4D5663"
         }
        },
        "paper_bgcolor": "#F5F6F9",
        "plot_bgcolor": "#F5F6F9",
        "titlefont": {
         "color": "#4D5663"
        },
        "xaxis": {
         "autorange": true,
         "gridcolor": "#E1E5ED",
         "range": [
          -0.5,
          9.5
         ],
         "showgrid": true,
         "tickfont": {
          "color": "#4D5663"
         },
         "title": "",
         "titlefont": {
          "color": "#4D5663"
         },
         "type": "category",
         "zerolinecolor": "#E1E5ED"
        },
        "yaxis": {
         "autorange": true,
         "gridcolor": "#E1E5ED",
         "range": [
          0,
          4791740
         ],
         "showgrid": true,
         "tickfont": {
          "color": "#4D5663"
         },
         "title": "",
         "titlefont": {
          "color": "#4D5663"
         },
         "type": "linear",
         "zerolinecolor": "#E1E5ED"
        }
       }
      },
      "image/png": "[encoded data removed]",
      "text/html": [
       "<div id=\"021dad76-6a7d-4659-a7c5-1924110122a2\" style=\"height: 525px; width: 100%;\" class=\"plotly-graph-div\"></div><script type=\"text/javascript\">require([\"plotly\"], function(Plotly) { window.PLOTLYENV=window.PLOTLYENV || {};window.PLOTLYENV.BASE_URL=\"https://plot.ly\";Plotly.newPlot(\"021dad76-6a7d-4659-a7c5-1924110122a2\", [{\"marker\": {\"color\": \"rgba(255, 153, 51, 0.6)\", \"line\": {\"color\": \"rgba(255, 153, 51, 1.0)\", \"width\": 1}}, \"name\": \"Refugees\", \"orientation\": \"v\", \"text\": \"\", \"x\": [\"Rwanda\", \"Bosnia and Herzegovina\", \"Eritrea\", \"Viet Nam\", \"Liberia\", \"Somalia\", \"Iraq\", \"Mozambique\", \"Various\", \"Afghanistan\"], \"y\": [434736.0, 437501.0, 503200.0, 517111.0, 520915.0, 812195.0, 1343824.0, 1445474.0, 3118510.0, 4552153.0], \"type\": \"bar\", \"uid\": \"707eeb64-40cc-48c8-975e-9a2e211309b8\"}], {\"legend\": {\"bgcolor\": \"#F5F6F9\", \"font\": {\"color\": \"#4D5663\"}}, \"paper_bgcolor\": \"#F5F6F9\", \"plot_bgcolor\": \"#F5F6F9\", \"titlefont\": {\"color\": \"#4D5663\"}, \"xaxis\": {\"gridcolor\": \"#E1E5ED\", \"showgrid\": true, \"tickfont\": {\"color\": \"#4D5663\"}, \"title\": \"\", \"titlefont\": {\"color\": \"#4D5663\"}, \"zerolinecolor\": \"#E1E5ED\"}, \"yaxis\": {\"gridcolor\": \"#E1E5ED\", \"showgrid\": true, \"tickfont\": {\"color\": \"#4D5663\"}, \"title\": \"\", \"titlefont\": {\"color\": \"#4D5663\"}, \"zerolinecolor\": \"#E1E5ED\"}}, {\"showLink\": true, \"linkText\": \"Export to plot.ly\", \"plotlyServerURL\": \"https://plot.ly\"})});</script><script type=\"text/javascript\">window.addEventListener(\"resize\", function(){window._Plotly.Plots.resize(document.getElementById(\"021dad76-6a7d-4659-a7c5-1924110122a2\"));});</script>"
      ],
      "text/vnd.plotly.v1+html": [
       "<div id=\"021dad76-6a7d-4659-a7c5-1924110122a2\" style=\"height: 525px; width: 100%;\" class=\"plotly-graph-div\"></div><script type=\"text/javascript\">require([\"plotly\"], function(Plotly) { window.PLOTLYENV=window.PLOTLYENV || {};window.PLOTLYENV.BASE_URL=\"https://plot.ly\";Plotly.newPlot(\"021dad76-6a7d-4659-a7c5-1924110122a2\", [{\"marker\": {\"color\": \"rgba(255, 153, 51, 0.6)\", \"line\": {\"color\": \"rgba(255, 153, 51, 1.0)\", \"width\": 1}}, \"name\": \"Refugees\", \"orientation\": \"v\", \"text\": \"\", \"x\": [\"Rwanda\", \"Bosnia and Herzegovina\", \"Eritrea\", \"Viet Nam\", \"Liberia\", \"Somalia\", \"Iraq\", \"Mozambique\", \"Various\", \"Afghanistan\"], \"y\": [434736.0, 437501.0, 503200.0, 517111.0, 520915.0, 812195.0, 1343824.0, 1445474.0, 3118510.0, 4552153.0], \"type\": \"bar\", \"uid\": \"707eeb64-40cc-48c8-975e-9a2e211309b8\"}], {\"legend\": {\"bgcolor\": \"#F5F6F9\", \"font\": {\"color\": \"#4D5663\"}}, \"paper_bgcolor\": \"#F5F6F9\", \"plot_bgcolor\": \"#F5F6F9\", \"titlefont\": {\"color\": \"#4D5663\"}, \"xaxis\": {\"gridcolor\": \"#E1E5ED\", \"showgrid\": true, \"tickfont\": {\"color\": \"#4D5663\"}, \"title\": \"\", \"titlefont\": {\"color\": \"#4D5663\"}, \"zerolinecolor\": \"#E1E5ED\"}, \"yaxis\": {\"gridcolor\": \"#E1E5ED\", \"showgrid\": true, \"tickfont\": {\"color\": \"#4D5663\"}, \"title\": \"\", \"titlefont\": {\"color\": \"#4D5663\"}, \"zerolinecolor\": \"#E1E5ED\"}}, {\"showLink\": true, \"linkText\": \"Export to plot.ly\", \"plotlyServerURL\": \"https://plot.ly\"})});</script><script type=\"text/javascript\">window.addEventListener(\"resize\", function(){window._Plotly.Plots.resize(document.getElementById(\"021dad76-6a7d-4659-a7c5-1924110122a2\"));});</script>"
      ]
     },
     "metadata": {},
     "output_type": "display_data"
    }
   ],
   "source": [
    "refugees_highest_year.tail(10).iplot(kind=\"bar\")"
   ]
  },
  {
   "cell_type": "markdown",
   "metadata": {},
   "source": [
    "Question 3) DO a similar analysis on Country of residence and plot the top 5 countries in a pie chart."
   ]
  },
  {
   "cell_type": "code",
   "execution_count": 18,
   "metadata": {},
   "outputs": [],
   "source": [
    "refugees_residence_highest_year = df[df[\"Year\"]==1992.0].groupby(df[\"Country or territory of asylum or residence\"])[\"Refugees\"].sum().sort_values()"
   ]
  },
  {
   "cell_type": "code",
   "execution_count": 20,
   "metadata": {},
   "outputs": [],
   "source": [
    "x = refugees_residence_highest_year.tail(5)"
   ]
  },
  {
   "cell_type": "code",
   "execution_count": 23,
   "metadata": {},
   "outputs": [
    {
     "data": {
      "application/vnd.plotly.v1+json": {
       "config": {
        "linkText": "Export to plot.ly",
        "plotlyServerURL": "https://plot.ly",
        "showLink": true
       },
       "data": [
        {
         "labels": [
          "Sudan",
          "Malawi",
          "Germany",
          "Pakistan",
          "Islamic Rep. of Iran"
         ],
         "marker": {
          "colors": [
           "rgba(255, 153, 51, 1.0)",
           "rgba(55, 128, 191, 1.0)",
           "rgba(50, 171, 96, 1.0)",
           "rgba(128, 0, 128, 1.0)",
           "rgba(219, 64, 82, 1.0)"
          ]
         },
         "name": "",
         "type": "pie",
         "values": [
          725900,
          1058498,
          1236000,
          1629218,
          4150723
         ]
        }
       ],
       "layout": {
        "autosize": true,
        "legend": {
         "bgcolor": "#F5F6F9",
         "font": {
          "color": "#4D5663"
         }
        },
        "paper_bgcolor": "#F5F6F9",
        "plot_bgcolor": "#F5F6F9",
        "titlefont": {
         "color": "#4D5663"
        }
       }
      },
      "image/png": "[encoded data removed]",
      "text/html": [
       "<div id=\"4c23b561-ea8d-4ea5-8cc2-c587aebe1eb3\" style=\"height: 525px; width: 100%;\" class=\"plotly-graph-div\"></div><script type=\"text/javascript\">require([\"plotly\"], function(Plotly) { window.PLOTLYENV=window.PLOTLYENV || {};window.PLOTLYENV.BASE_URL=\"https://plot.ly\";Plotly.newPlot(\"4c23b561-ea8d-4ea5-8cc2-c587aebe1eb3\", [{\"labels\": [\"Sudan\", \"Malawi\", \"Germany\", \"Pakistan\", \"Islamic Rep. of Iran\"], \"marker\": {\"colors\": [\"rgba(255, 153, 51, 1.0)\", \"rgba(55, 128, 191, 1.0)\", \"rgba(50, 171, 96, 1.0)\", \"rgba(128, 0, 128, 1.0)\", \"rgba(219, 64, 82, 1.0)\"]}, \"name\": \"\", \"values\": [725900.0, 1058498.0, 1236000.0, 1629218.0, 4150723.0], \"type\": \"pie\"}], {\"legend\": {\"bgcolor\": \"#F5F6F9\", \"font\": {\"color\": \"#4D5663\"}}, \"paper_bgcolor\": \"#F5F6F9\", \"plot_bgcolor\": \"#F5F6F9\", \"titlefont\": {\"color\": \"#4D5663\"}}, {\"showLink\": true, \"linkText\": \"Export to plot.ly\", \"plotlyServerURL\": \"https://plot.ly\"})});</script><script type=\"text/javascript\">window.addEventListener(\"resize\", function(){window._Plotly.Plots.resize(document.getElementById(\"4c23b561-ea8d-4ea5-8cc2-c587aebe1eb3\"));});</script>"
      ],
      "text/vnd.plotly.v1+html": [
       "<div id=\"4c23b561-ea8d-4ea5-8cc2-c587aebe1eb3\" style=\"height: 525px; width: 100%;\" class=\"plotly-graph-div\"></div><script type=\"text/javascript\">require([\"plotly\"], function(Plotly) { window.PLOTLYENV=window.PLOTLYENV || {};window.PLOTLYENV.BASE_URL=\"https://plot.ly\";Plotly.newPlot(\"4c23b561-ea8d-4ea5-8cc2-c587aebe1eb3\", [{\"labels\": [\"Sudan\", \"Malawi\", \"Germany\", \"Pakistan\", \"Islamic Rep. of Iran\"], \"marker\": {\"colors\": [\"rgba(255, 153, 51, 1.0)\", \"rgba(55, 128, 191, 1.0)\", \"rgba(50, 171, 96, 1.0)\", \"rgba(128, 0, 128, 1.0)\", \"rgba(219, 64, 82, 1.0)\"]}, \"name\": \"\", \"values\": [725900.0, 1058498.0, 1236000.0, 1629218.0, 4150723.0], \"type\": \"pie\"}], {\"legend\": {\"bgcolor\": \"#F5F6F9\", \"font\": {\"color\": \"#4D5663\"}}, \"paper_bgcolor\": \"#F5F6F9\", \"plot_bgcolor\": \"#F5F6F9\", \"titlefont\": {\"color\": \"#4D5663\"}}, {\"showLink\": true, \"linkText\": \"Export to plot.ly\", \"plotlyServerURL\": \"https://plot.ly\"})});</script><script type=\"text/javascript\">window.addEventListener(\"resize\", function(){window._Plotly.Plots.resize(document.getElementById(\"4c23b561-ea8d-4ea5-8cc2-c587aebe1eb3\"));});</script>"
      ]
     },
     "metadata": {},
     "output_type": "display_data"
    }
   ],
   "source": [
    "x.reset_index().iplot(kind=\"pie\", labels=\"Country or territory of asylum or residence\", values=\"Refugees\")"
   ]
  },
  {
   "cell_type": "code",
   "execution_count": 22,
   "metadata": {},
   "outputs": [
    {
     "data": {
      "text/html": [
       "<div>\n",
       "<style scoped>\n",
       "    .dataframe tbody tr th:only-of-type {\n",
       "        vertical-align: middle;\n",
       "    }\n",
       "\n",
       "    .dataframe tbody tr th {\n",
       "        vertical-align: top;\n",
       "    }\n",
       "\n",
       "    .dataframe thead th {\n",
       "        text-align: right;\n",
       "    }\n",
       "</style>\n",
       "<table border=\"1\" class=\"dataframe\">\n",
       "  <thead>\n",
       "    <tr style=\"text-align: right;\">\n",
       "      <th></th>\n",
       "      <th>Country or territory of asylum or residence</th>\n",
       "      <th>Refugees</th>\n",
       "    </tr>\n",
       "  </thead>\n",
       "  <tbody>\n",
       "    <tr>\n",
       "      <th>0</th>\n",
       "      <td>Sudan</td>\n",
       "      <td>725900.0</td>\n",
       "    </tr>\n",
       "    <tr>\n",
       "      <th>1</th>\n",
       "      <td>Malawi</td>\n",
       "      <td>1058498.0</td>\n",
       "    </tr>\n",
       "    <tr>\n",
       "      <th>2</th>\n",
       "      <td>Germany</td>\n",
       "      <td>1236000.0</td>\n",
       "    </tr>\n",
       "    <tr>\n",
       "      <th>3</th>\n",
       "      <td>Pakistan</td>\n",
       "      <td>1629218.0</td>\n",
       "    </tr>\n",
       "    <tr>\n",
       "      <th>4</th>\n",
       "      <td>Islamic Rep. of Iran</td>\n",
       "      <td>4150723.0</td>\n",
       "    </tr>\n",
       "  </tbody>\n",
       "</table>\n",
       "</div>"
      ],
      "text/plain": [
       "  Country or territory of asylum or residence   Refugees\n",
       "0                                       Sudan   725900.0\n",
       "1                                      Malawi  1058498.0\n",
       "2                                     Germany  1236000.0\n",
       "3                                    Pakistan  1629218.0\n",
       "4                        Islamic Rep. of Iran  4150723.0"
      ]
     },
     "execution_count": 22,
     "metadata": {},
     "output_type": "execute_result"
    }
   ],
   "source": [
    "x.reset_index()"
   ]
  },
  {
   "cell_type": "markdown",
   "metadata": {},
   "source": [
    "Question 4) In order to evaluate the efficiency of UNCHR procedure, we are interested in knowing the percentage of refugees being helped by the UNCHR process based on year, country of origin, and country of residence."
   ]
  },
  {
   "cell_type": "code",
   "execution_count": 25,
   "metadata": {},
   "outputs": [],
   "source": [
    "df[\"UNCHR Ratio\"] = round(df[\"Total refugees and people in refugee-like situations assisted by UNHCR\"]/df[\"Total refugees and people in refugee-like situations\"],6)"
   ]
  },
  {
   "cell_type": "code",
   "execution_count": 26,
   "metadata": {},
   "outputs": [],
   "source": [
    "df_filtered = df[df[\"UNCHR Ratio\"]<=1]"
   ]
  },
  {
   "cell_type": "code",
   "execution_count": 27,
   "metadata": {},
   "outputs": [
    {
     "data": {
      "text/html": [
       "<div>\n",
       "<style scoped>\n",
       "    .dataframe tbody tr th:only-of-type {\n",
       "        vertical-align: middle;\n",
       "    }\n",
       "\n",
       "    .dataframe tbody tr th {\n",
       "        vertical-align: top;\n",
       "    }\n",
       "\n",
       "    .dataframe thead th {\n",
       "        text-align: right;\n",
       "    }\n",
       "</style>\n",
       "<table border=\"1\" class=\"dataframe\">\n",
       "  <thead>\n",
       "    <tr style=\"text-align: right;\">\n",
       "      <th></th>\n",
       "      <th>Country or territory of asylum or residence</th>\n",
       "      <th>Country or territory of origin</th>\n",
       "      <th>Year</th>\n",
       "      <th>Refugees</th>\n",
       "      <th>Refugees assisted by UNHCR</th>\n",
       "      <th>Total refugees and people in refugee-like situations</th>\n",
       "      <th>Total refugees and people in refugee-like situations assisted by UNHCR</th>\n",
       "      <th>UNCHR Ratio</th>\n",
       "    </tr>\n",
       "  </thead>\n",
       "  <tbody>\n",
       "    <tr>\n",
       "      <th>0</th>\n",
       "      <td>Afghanistan</td>\n",
       "      <td>Iraq</td>\n",
       "      <td>2016.0</td>\n",
       "      <td>1.0</td>\n",
       "      <td>1.0</td>\n",
       "      <td>1.0</td>\n",
       "      <td>1.0</td>\n",
       "      <td>1.0</td>\n",
       "    </tr>\n",
       "    <tr>\n",
       "      <th>42329</th>\n",
       "      <td>Libya</td>\n",
       "      <td>State of Palestine</td>\n",
       "      <td>2008.0</td>\n",
       "      <td>2842.0</td>\n",
       "      <td>2842.0</td>\n",
       "      <td>2842.0</td>\n",
       "      <td>2842.0</td>\n",
       "      <td>1.0</td>\n",
       "    </tr>\n",
       "    <tr>\n",
       "      <th>42425</th>\n",
       "      <td>Mali</td>\n",
       "      <td>Mauritania</td>\n",
       "      <td>2008.0</td>\n",
       "      <td>6157.0</td>\n",
       "      <td>6157.0</td>\n",
       "      <td>6157.0</td>\n",
       "      <td>6157.0</td>\n",
       "      <td>1.0</td>\n",
       "    </tr>\n",
       "    <tr>\n",
       "      <th>42424</th>\n",
       "      <td>Mali</td>\n",
       "      <td>Liberia</td>\n",
       "      <td>2008.0</td>\n",
       "      <td>82.0</td>\n",
       "      <td>82.0</td>\n",
       "      <td>82.0</td>\n",
       "      <td>82.0</td>\n",
       "      <td>1.0</td>\n",
       "    </tr>\n",
       "    <tr>\n",
       "      <th>42423</th>\n",
       "      <td>Mali</td>\n",
       "      <td>Guinea-Bissau</td>\n",
       "      <td>2008.0</td>\n",
       "      <td>19.0</td>\n",
       "      <td>19.0</td>\n",
       "      <td>19.0</td>\n",
       "      <td>19.0</td>\n",
       "      <td>1.0</td>\n",
       "    </tr>\n",
       "  </tbody>\n",
       "</table>\n",
       "</div>"
      ],
      "text/plain": [
       "      Country or territory of asylum or residence  \\\n",
       "0                                     Afghanistan   \n",
       "42329                                       Libya   \n",
       "42425                                        Mali   \n",
       "42424                                        Mali   \n",
       "42423                                        Mali   \n",
       "\n",
       "      Country or territory of origin    Year  Refugees  \\\n",
       "0                               Iraq  2016.0       1.0   \n",
       "42329             State of Palestine  2008.0    2842.0   \n",
       "42425                     Mauritania  2008.0    6157.0   \n",
       "42424                        Liberia  2008.0      82.0   \n",
       "42423                  Guinea-Bissau  2008.0      19.0   \n",
       "\n",
       "       Refugees assisted by UNHCR  \\\n",
       "0                             1.0   \n",
       "42329                      2842.0   \n",
       "42425                      6157.0   \n",
       "42424                        82.0   \n",
       "42423                        19.0   \n",
       "\n",
       "       Total refugees and people in refugee-like situations  \\\n",
       "0                                                    1.0      \n",
       "42329                                             2842.0      \n",
       "42425                                             6157.0      \n",
       "42424                                               82.0      \n",
       "42423                                               19.0      \n",
       "\n",
       "       Total refugees and people in refugee-like situations assisted by UNHCR  \\\n",
       "0                                                    1.0                        \n",
       "42329                                             2842.0                        \n",
       "42425                                             6157.0                        \n",
       "42424                                               82.0                        \n",
       "42423                                               19.0                        \n",
       "\n",
       "       UNCHR Ratio  \n",
       "0              1.0  \n",
       "42329          1.0  \n",
       "42425          1.0  \n",
       "42424          1.0  \n",
       "42423          1.0  "
      ]
     },
     "execution_count": 27,
     "metadata": {},
     "output_type": "execute_result"
    }
   ],
   "source": [
    "df_filtered.sort_values(by=[\"UNCHR Ratio\"],ascending=False).head(5)"
   ]
  },
  {
   "cell_type": "code",
   "execution_count": 28,
   "metadata": {},
   "outputs": [
    {
     "data": {
      "text/html": [
       "<div>\n",
       "<style scoped>\n",
       "    .dataframe tbody tr th:only-of-type {\n",
       "        vertical-align: middle;\n",
       "    }\n",
       "\n",
       "    .dataframe tbody tr th {\n",
       "        vertical-align: top;\n",
       "    }\n",
       "\n",
       "    .dataframe thead th {\n",
       "        text-align: right;\n",
       "    }\n",
       "</style>\n",
       "<table border=\"1\" class=\"dataframe\">\n",
       "  <thead>\n",
       "    <tr style=\"text-align: right;\">\n",
       "      <th></th>\n",
       "      <th>Country or territory of asylum or residence</th>\n",
       "      <th>Country or territory of origin</th>\n",
       "      <th>Year</th>\n",
       "      <th>Refugees</th>\n",
       "      <th>Refugees assisted by UNHCR</th>\n",
       "      <th>Total refugees and people in refugee-like situations</th>\n",
       "      <th>Total refugees and people in refugee-like situations assisted by UNHCR</th>\n",
       "      <th>UNCHR Ratio</th>\n",
       "    </tr>\n",
       "  </thead>\n",
       "  <tbody>\n",
       "    <tr>\n",
       "      <th>1050</th>\n",
       "      <td>China</td>\n",
       "      <td>Viet Nam</td>\n",
       "      <td>2016.0</td>\n",
       "      <td>317098.0</td>\n",
       "      <td>1.0</td>\n",
       "      <td>317098.0</td>\n",
       "      <td>1.0</td>\n",
       "      <td>0.000003</td>\n",
       "    </tr>\n",
       "    <tr>\n",
       "      <th>6431</th>\n",
       "      <td>China</td>\n",
       "      <td>Viet Nam</td>\n",
       "      <td>2015.0</td>\n",
       "      <td>300896.0</td>\n",
       "      <td>1.0</td>\n",
       "      <td>300896.0</td>\n",
       "      <td>1.0</td>\n",
       "      <td>0.000003</td>\n",
       "    </tr>\n",
       "    <tr>\n",
       "      <th>17026</th>\n",
       "      <td>China</td>\n",
       "      <td>Viet Nam</td>\n",
       "      <td>2013.0</td>\n",
       "      <td>300896.0</td>\n",
       "      <td>1.0</td>\n",
       "      <td>300896.0</td>\n",
       "      <td>1.0</td>\n",
       "      <td>0.000003</td>\n",
       "    </tr>\n",
       "    <tr>\n",
       "      <th>22023</th>\n",
       "      <td>China</td>\n",
       "      <td>Viet Nam</td>\n",
       "      <td>2012.0</td>\n",
       "      <td>300897.0</td>\n",
       "      <td>1.0</td>\n",
       "      <td>300897.0</td>\n",
       "      <td>1.0</td>\n",
       "      <td>0.000003</td>\n",
       "    </tr>\n",
       "    <tr>\n",
       "      <th>26911</th>\n",
       "      <td>China</td>\n",
       "      <td>Viet Nam</td>\n",
       "      <td>2011.0</td>\n",
       "      <td>300897.0</td>\n",
       "      <td>1.0</td>\n",
       "      <td>300897.0</td>\n",
       "      <td>1.0</td>\n",
       "      <td>0.000003</td>\n",
       "    </tr>\n",
       "  </tbody>\n",
       "</table>\n",
       "</div>"
      ],
      "text/plain": [
       "      Country or territory of asylum or residence  \\\n",
       "1050                                        China   \n",
       "6431                                        China   \n",
       "17026                                       China   \n",
       "22023                                       China   \n",
       "26911                                       China   \n",
       "\n",
       "      Country or territory of origin    Year  Refugees  \\\n",
       "1050                        Viet Nam  2016.0  317098.0   \n",
       "6431                        Viet Nam  2015.0  300896.0   \n",
       "17026                       Viet Nam  2013.0  300896.0   \n",
       "22023                       Viet Nam  2012.0  300897.0   \n",
       "26911                       Viet Nam  2011.0  300897.0   \n",
       "\n",
       "       Refugees assisted by UNHCR  \\\n",
       "1050                          1.0   \n",
       "6431                          1.0   \n",
       "17026                         1.0   \n",
       "22023                         1.0   \n",
       "26911                         1.0   \n",
       "\n",
       "       Total refugees and people in refugee-like situations  \\\n",
       "1050                                            317098.0      \n",
       "6431                                            300896.0      \n",
       "17026                                           300896.0      \n",
       "22023                                           300897.0      \n",
       "26911                                           300897.0      \n",
       "\n",
       "       Total refugees and people in refugee-like situations assisted by UNHCR  \\\n",
       "1050                                                 1.0                        \n",
       "6431                                                 1.0                        \n",
       "17026                                                1.0                        \n",
       "22023                                                1.0                        \n",
       "26911                                                1.0                        \n",
       "\n",
       "       UNCHR Ratio  \n",
       "1050      0.000003  \n",
       "6431      0.000003  \n",
       "17026     0.000003  \n",
       "22023     0.000003  \n",
       "26911     0.000003  "
      ]
     },
     "execution_count": 28,
     "metadata": {},
     "output_type": "execute_result"
    }
   ],
   "source": [
    "df_filtered.sort_values(by=[\"UNCHR Ratio\"],ascending=True).head(5)"
   ]
  },
  {
   "cell_type": "markdown",
   "metadata": {},
   "source": [
    "Question 4) Now we desire to do the same analysis but aggregate it over the years. In particular, we want to see what counties of residence are the best to pursue immigration through UNCHR application. "
   ]
  },
  {
   "cell_type": "code",
   "execution_count": 36,
   "metadata": {},
   "outputs": [],
   "source": [
    "df_country_residence = df.groupby(df[\"Country or territory of asylum or residence\"]).agg({\"Total refugees and people in refugee-like situations\": \"sum\", \"Total refugees and people in refugee-like situations assisted by UNHCR\": \"sum\"})"
   ]
  },
  {
   "cell_type": "code",
   "execution_count": 30,
   "metadata": {},
   "outputs": [],
   "source": [
    "df_country_residence[\"aggregate UNCHR Ratio\"] = df_country_residence['Total refugees and people in refugee-like situations assisted by UNHCR'] / df_country_residence['Total refugees and people in refugee-like situations']"
   ]
  },
  {
   "cell_type": "code",
   "execution_count": 32,
   "metadata": {},
   "outputs": [
    {
     "data": {
      "text/html": [
       "<div>\n",
       "<style scoped>\n",
       "    .dataframe tbody tr th:only-of-type {\n",
       "        vertical-align: middle;\n",
       "    }\n",
       "\n",
       "    .dataframe tbody tr th {\n",
       "        vertical-align: top;\n",
       "    }\n",
       "\n",
       "    .dataframe thead th {\n",
       "        text-align: right;\n",
       "    }\n",
       "</style>\n",
       "<table border=\"1\" class=\"dataframe\">\n",
       "  <thead>\n",
       "    <tr style=\"text-align: right;\">\n",
       "      <th></th>\n",
       "      <th>Total refugees and people in refugee-like situations</th>\n",
       "      <th>Total refugees and people in refugee-like situations assisted by UNHCR</th>\n",
       "      <th>aggregate UNCHR Ratio</th>\n",
       "    </tr>\n",
       "    <tr>\n",
       "      <th>Country or territory of asylum or residence</th>\n",
       "      <th></th>\n",
       "      <th></th>\n",
       "      <th></th>\n",
       "    </tr>\n",
       "  </thead>\n",
       "  <tbody>\n",
       "    <tr>\n",
       "      <th>Seychelles</th>\n",
       "      <td>2.0</td>\n",
       "      <td>2.0</td>\n",
       "      <td>1.0</td>\n",
       "    </tr>\n",
       "    <tr>\n",
       "      <th>Barbados</th>\n",
       "      <td>2.0</td>\n",
       "      <td>2.0</td>\n",
       "      <td>1.0</td>\n",
       "    </tr>\n",
       "    <tr>\n",
       "      <th>Palau</th>\n",
       "      <td>16.0</td>\n",
       "      <td>16.0</td>\n",
       "      <td>1.0</td>\n",
       "    </tr>\n",
       "    <tr>\n",
       "      <th>Samoa</th>\n",
       "      <td>3.0</td>\n",
       "      <td>3.0</td>\n",
       "      <td>1.0</td>\n",
       "    </tr>\n",
       "    <tr>\n",
       "      <th>Anguilla</th>\n",
       "      <td>2.0</td>\n",
       "      <td>2.0</td>\n",
       "      <td>1.0</td>\n",
       "    </tr>\n",
       "    <tr>\n",
       "      <th>Antigua and Barbuda</th>\n",
       "      <td>19.0</td>\n",
       "      <td>19.0</td>\n",
       "      <td>1.0</td>\n",
       "    </tr>\n",
       "    <tr>\n",
       "      <th>Saint Kitts and Nevis</th>\n",
       "      <td>1.0</td>\n",
       "      <td>1.0</td>\n",
       "      <td>1.0</td>\n",
       "    </tr>\n",
       "    <tr>\n",
       "      <th>Turks and Caicos Islands</th>\n",
       "      <td>16.0</td>\n",
       "      <td>16.0</td>\n",
       "      <td>1.0</td>\n",
       "    </tr>\n",
       "    <tr>\n",
       "      <th>Aruba</th>\n",
       "      <td>4.0</td>\n",
       "      <td>4.0</td>\n",
       "      <td>1.0</td>\n",
       "    </tr>\n",
       "    <tr>\n",
       "      <th>Rep. of Moldova</th>\n",
       "      <td>3194.0</td>\n",
       "      <td>3194.0</td>\n",
       "      <td>1.0</td>\n",
       "    </tr>\n",
       "  </tbody>\n",
       "</table>\n",
       "</div>"
      ],
      "text/plain": [
       "                                             Total refugees and people in refugee-like situations  \\\n",
       "Country or territory of asylum or residence                                                         \n",
       "Seychelles                                                                                 2.0      \n",
       "Barbados                                                                                   2.0      \n",
       "Palau                                                                                     16.0      \n",
       "Samoa                                                                                      3.0      \n",
       "Anguilla                                                                                   2.0      \n",
       "Antigua and Barbuda                                                                       19.0      \n",
       "Saint Kitts and Nevis                                                                      1.0      \n",
       "Turks and Caicos Islands                                                                  16.0      \n",
       "Aruba                                                                                      4.0      \n",
       "Rep. of Moldova                                                                         3194.0      \n",
       "\n",
       "                                             Total refugees and people in refugee-like situations assisted by UNHCR  \\\n",
       "Country or territory of asylum or residence                                                                           \n",
       "Seychelles                                                                                 2.0                        \n",
       "Barbados                                                                                   2.0                        \n",
       "Palau                                                                                     16.0                        \n",
       "Samoa                                                                                      3.0                        \n",
       "Anguilla                                                                                   2.0                        \n",
       "Antigua and Barbuda                                                                       19.0                        \n",
       "Saint Kitts and Nevis                                                                      1.0                        \n",
       "Turks and Caicos Islands                                                                  16.0                        \n",
       "Aruba                                                                                      4.0                        \n",
       "Rep. of Moldova                                                                         3194.0                        \n",
       "\n",
       "                                             aggregate UNCHR Ratio  \n",
       "Country or territory of asylum or residence                         \n",
       "Seychelles                                                     1.0  \n",
       "Barbados                                                       1.0  \n",
       "Palau                                                          1.0  \n",
       "Samoa                                                          1.0  \n",
       "Anguilla                                                       1.0  \n",
       "Antigua and Barbuda                                            1.0  \n",
       "Saint Kitts and Nevis                                          1.0  \n",
       "Turks and Caicos Islands                                       1.0  \n",
       "Aruba                                                          1.0  \n",
       "Rep. of Moldova                                                1.0  "
      ]
     },
     "execution_count": 32,
     "metadata": {},
     "output_type": "execute_result"
    }
   ],
   "source": [
    "df_country_residence.sort_values(by=[\"aggregate UNCHR Ratio\"], ascending=False).head(10)"
   ]
  },
  {
   "cell_type": "code",
   "execution_count": null,
   "metadata": {},
   "outputs": [],
   "source": [
    "Question 5) For Iranian citizens, which countries have the highest rate of UNCHR immigration rate?"
   ]
  },
  {
   "cell_type": "code",
   "execution_count": 33,
   "metadata": {},
   "outputs": [],
   "source": [
    "df_Iran = df[df[\"Country or territory of origin\"]==\"Islamic Rep. of Iran\"].groupby(df[\"Country or territory of asylum or residence\"]).agg({\"Total refugees and people in refugee-like situations\":\"sum\",\"Total refugees and people in refugee-like situations assisted by UNHCR\":\"sum\"})"
   ]
  },
  {
   "cell_type": "code",
   "execution_count": 38,
   "metadata": {},
   "outputs": [],
   "source": [
    "df_Iran[\"aggregate UNCHR Ratio\"] = df_Iran['Total refugees and people in refugee-like situations assisted by UNHCR'] / df_Iran['Total refugees and people in refugee-like situations']"
   ]
  },
  {
   "cell_type": "code",
   "execution_count": 39,
   "metadata": {},
   "outputs": [
    {
     "data": {
      "application/vnd.plotly.v1+json": {
       "config": {
        "linkText": "Export to plot.ly",
        "plotlyServerURL": "https://plot.ly",
        "showLink": true
       },
       "data": [
        {
         "marker": {
          "color": "rgba(55, 128, 191, 0.6)",
          "line": {
           "color": "rgba(55, 128, 191, 1.0)",
           "width": 1
          }
         },
         "name": "aggregate UNCHR Ratio",
         "orientation": "v",
         "text": "",
         "type": "bar",
         "uid": "bc814977-dfc7-44a5-a8af-9988405540d8",
         "x": [
          "Zimbabwe",
          "Sint Maarten (Dutch part)",
          "Croatia",
          "Hong Kong SAR, China",
          "Kenya",
          "Bosnia and Herzegovina",
          "Montenegro",
          "Costa Rica",
          "Rep. of Moldova",
          "Bahamas",
          "Trinidad and Tobago",
          "Uganda",
          "Vanuatu",
          "Yemen",
          "Cameroon",
          "Indonesia",
          "Lebanon",
          "Russian Federation",
          "Nepal",
          "Azerbaijan",
          "Cuba",
          "Kyrgyzstan",
          "Malaysia",
          "Albania",
          "Armenia",
          "Jordan",
          "Sri Lanka",
          "Israel",
          "Serbia (and Kosovo: S/RES/1244 (1999))",
          "Benin",
          "Egypt",
          "China",
          "Chile",
          "Afghanistan",
          "Panama",
          "Syrian Arab Rep.",
          "Kuwait",
          "Congo",
          "Turkey",
          "Georgia",
          "Japan",
          "Thailand",
          "Tajikistan",
          "Chad",
          "Belarus",
          "Czechia",
          "Cambodia",
          "Bolivia (Plurinational State of)",
          "Paraguay",
          "Ecuador",
          "El Salvador",
          "Iraq",
          "Mexico",
          "Lithuania",
          "Hungary",
          "Colombia",
          "Rep. of Korea",
          "Niger",
          "Slovenia",
          "Côte d'Ivoire",
          "Morocco",
          "Dominican Rep.",
          "Uruguay",
          "Brazil",
          "Ukraine",
          "Romania",
          "Tunisia",
          "Honduras",
          "Slovakia",
          "Cyprus",
          "Venezuela (Bolivarian Republic of)",
          "Pakistan",
          "India",
          "Togo",
          "Peru",
          "Bulgaria",
          "Philippines",
          "Bangladesh",
          "United Arab Emirates",
          "Argentina",
          "Turkmenistan",
          "Greece",
          "Ireland",
          "United Kingdom",
          "Spain",
          "United States",
          "South Africa",
          "Sweden",
          "Switzerland",
          "Australia",
          "Burkina Faso",
          "Austria",
          "Canada",
          "Bahrain",
          "Grenada",
          "Singapore",
          "Luxembourg",
          "Iceland",
          "Italy",
          "Germany",
          "France",
          "Botswana",
          "Finland",
          "Fiji",
          "Lao People's Dem. Rep.",
          "Latvia",
          "Liechtenstein",
          "Malta",
          "Portugal",
          "Nauru",
          "Belgium",
          "Netherlands",
          "New Zealand",
          "Nicaragua",
          "Nigeria",
          "Norway",
          "Denmark",
          "Guatemala",
          "Poland",
          "Papua New Guinea"
         ],
         "y": [
          1,
          1,
          1,
          1,
          1,
          1,
          1,
          1,
          1,
          1,
          1,
          1,
          1,
          1,
          1,
          0.9942528735632183,
          0.9930555555555556,
          0.9903846153846154,
          0.9787234042553191,
          0.9758828596037898,
          0.959349593495935,
          0.9444444444444444,
          0.943382873319179,
          0.9393939393939394,
          0.91701244813278,
          0.9,
          0.8947368421052632,
          0.8823529411764706,
          0.8223844282238443,
          0.8,
          0.7941176470588235,
          0.7833333333333333,
          0.7674418604651163,
          0.7520661157024794,
          0.7457627118644068,
          0.7365823565700185,
          0.7304347826086957,
          0.7142857142857143,
          0.6909101757107485,
          0.6764705882352942,
          0.6632825719120136,
          0.6115107913669064,
          0.6024096385542169,
          0.59375,
          0.56,
          0.5016666666666667,
          0.5,
          0.47619047619047616,
          0.44,
          0.3861671469740634,
          0.3333333333333333,
          0.3208645930604446,
          0.2814814814814815,
          0.2803738317757009,
          0.25076923076923074,
          0.25,
          0.2488479262672811,
          0.23076923076923078,
          0.2297872340425532,
          0.22271714922049,
          0.20588235294117646,
          0.2,
          0.2,
          0.19471947194719472,
          0.1899581589958159,
          0.17684108527131784,
          0.1610738255033557,
          0.15789473684210525,
          0.14018691588785046,
          0.12185243880964959,
          0.11538461538461539,
          0.09675794486674603,
          0.09412432227966208,
          0.09090909090909091,
          0.08746355685131195,
          0.055288461538461536,
          0.03607060629316961,
          0.02962962962962963,
          0.02765167148163434,
          0.025423728813559324,
          0.0196078431372549,
          0.015854743341531054,
          0.002103491796381994,
          0,
          0,
          0,
          0,
          0,
          0,
          0,
          0,
          0,
          0,
          0,
          0,
          0,
          0,
          0,
          0,
          0,
          0,
          0,
          0,
          0,
          0,
          0,
          0,
          0,
          0,
          0,
          0,
          0,
          0,
          0,
          0,
          0,
          0,
          0,
          0,
          0
         ]
        }
       ],
       "layout": {
        "autosize": true,
        "legend": {
         "bgcolor": "#F5F6F9",
         "font": {
          "color": "#4D5663"
         }
        },
        "paper_bgcolor": "#F5F6F9",
        "plot_bgcolor": "#F5F6F9",
        "titlefont": {
         "color": "#4D5663"
        },
        "xaxis": {
         "autorange": true,
         "gridcolor": "#E1E5ED",
         "range": [
          -0.5,
          119.5
         ],
         "showgrid": true,
         "tickfont": {
          "color": "#4D5663"
         },
         "title": "",
         "titlefont": {
          "color": "#4D5663"
         },
         "type": "category",
         "zerolinecolor": "#E1E5ED"
        },
        "yaxis": {
         "autorange": true,
         "gridcolor": "#E1E5ED",
         "range": [
          0,
          1.0526315789473684
         ],
         "showgrid": true,
         "tickfont": {
          "color": "#4D5663"
         },
         "title": "",
         "titlefont": {
          "color": "#4D5663"
         },
         "type": "linear",
         "zerolinecolor": "#E1E5ED"
        }
       }
      },
      "image/png": "[encoded data removed]",
      "text/html": [
       "<div id=\"128d4bdc-9e1d-42e9-b2e3-3edb633033ba\" style=\"height: 525px; width: 100%;\" class=\"plotly-graph-div\"></div><script type=\"text/javascript\">require([\"plotly\"], function(Plotly) { window.PLOTLYENV=window.PLOTLYENV || {};window.PLOTLYENV.BASE_URL=\"https://plot.ly\";Plotly.newPlot(\"128d4bdc-9e1d-42e9-b2e3-3edb633033ba\", [{\"marker\": {\"color\": \"rgba(55, 128, 191, 0.6)\", \"line\": {\"color\": \"rgba(55, 128, 191, 1.0)\", \"width\": 1}}, \"name\": \"aggregate UNCHR Ratio\", \"orientation\": \"v\", \"text\": \"\", \"x\": [\"Zimbabwe\", \"Sint Maarten (Dutch part)\", \"Croatia\", \"Hong Kong SAR, China\", \"Kenya\", \"Bosnia and Herzegovina\", \"Montenegro\", \"Costa Rica\", \"Rep. of Moldova\", \"Bahamas\", \"Trinidad and Tobago\", \"Uganda\", \"Vanuatu\", \"Yemen\", \"Cameroon\", \"Indonesia\", \"Lebanon\", \"Russian Federation\", \"Nepal\", \"Azerbaijan\", \"Cuba\", \"Kyrgyzstan\", \"Malaysia\", \"Albania\", \"Armenia\", \"Jordan\", \"Sri Lanka\", \"Israel\", \"Serbia (and Kosovo: S/RES/1244 (1999))\", \"Benin\", \"Egypt\", \"China\", \"Chile\", \"Afghanistan\", \"Panama\", \"Syrian Arab Rep.\", \"Kuwait\", \"Congo\", \"Turkey\", \"Georgia\", \"Japan\", \"Thailand\", \"Tajikistan\", \"Chad\", \"Belarus\", \"Czechia\", \"Cambodia\", \"Bolivia (Plurinational State of)\", \"Paraguay\", \"Ecuador\", \"El Salvador\", \"Iraq\", \"Mexico\", \"Lithuania\", \"Hungary\", \"Colombia\", \"Rep. of Korea\", \"Niger\", \"Slovenia\", \"C\\u00f4te d'Ivoire\", \"Morocco\", \"Dominican Rep.\", \"Uruguay\", \"Brazil\", \"Ukraine\", \"Romania\", \"Tunisia\", \"Honduras\", \"Slovakia\", \"Cyprus\", \"Venezuela (Bolivarian Republic of)\", \"Pakistan\", \"India\", \"Togo\", \"Peru\", \"Bulgaria\", \"Philippines\", \"Bangladesh\", \"United Arab Emirates\", \"Argentina\", \"Turkmenistan\", \"Greece\", \"Ireland\", \"United Kingdom\", \"Spain\", \"United States\", \"South Africa\", \"Sweden\", \"Switzerland\", \"Australia\", \"Burkina Faso\", \"Austria\", \"Canada\", \"Bahrain\", \"Grenada\", \"Singapore\", \"Luxembourg\", \"Iceland\", \"Italy\", \"Germany\", \"France\", \"Botswana\", \"Finland\", \"Fiji\", \"Lao People's Dem. Rep.\", \"Latvia\", \"Liechtenstein\", \"Malta\", \"Portugal\", \"Nauru\", \"Belgium\", \"Netherlands\", \"New Zealand\", \"Nicaragua\", \"Nigeria\", \"Norway\", \"Denmark\", \"Guatemala\", \"Poland\", \"Papua New Guinea\"], \"y\": [1.0, 1.0, 1.0, 1.0, 1.0, 1.0, 1.0, 1.0, 1.0, 1.0, 1.0, 1.0, 1.0, 1.0, 1.0, 0.9942528735632183, 0.9930555555555556, 0.9903846153846154, 0.9787234042553191, 0.9758828596037898, 0.959349593495935, 0.9444444444444444, 0.943382873319179, 0.9393939393939394, 0.91701244813278, 0.9, 0.8947368421052632, 0.8823529411764706, 0.8223844282238443, 0.8, 0.7941176470588235, 0.7833333333333333, 0.7674418604651163, 0.7520661157024794, 0.7457627118644068, 0.7365823565700185, 0.7304347826086957, 0.7142857142857143, 0.6909101757107485, 0.6764705882352942, 0.6632825719120136, 0.6115107913669064, 0.6024096385542169, 0.59375, 0.56, 0.5016666666666667, 0.5, 0.47619047619047616, 0.44, 0.3861671469740634, 0.3333333333333333, 0.3208645930604446, 0.2814814814814815, 0.2803738317757009, 0.25076923076923074, 0.25, 0.2488479262672811, 0.23076923076923078, 0.2297872340425532, 0.22271714922049, 0.20588235294117646, 0.2, 0.2, 0.19471947194719472, 0.1899581589958159, 0.17684108527131784, 0.1610738255033557, 0.15789473684210525, 0.14018691588785046, 0.12185243880964959, 0.11538461538461539, 0.09675794486674603, 0.09412432227966208, 0.09090909090909091, 0.08746355685131195, 0.055288461538461536, 0.03607060629316961, 0.02962962962962963, 0.02765167148163434, 0.025423728813559324, 0.0196078431372549, 0.015854743341531054, 0.002103491796381994, 0.0, 0.0, 0.0, 0.0, 0.0, 0.0, 0.0, 0.0, 0.0, 0.0, 0.0, 0.0, 0.0, 0.0, 0.0, 0.0, 0.0, 0.0, 0.0, 0.0, 0.0, 0.0, 0.0, 0.0, 0.0, 0.0, 0.0, 0.0, 0.0, 0.0, 0.0, 0.0, 0.0, 0.0, 0.0, 0.0, 0.0], \"type\": \"bar\", \"uid\": \"650f283e-6e94-4c54-923d-bf8e11209e29\"}], {\"legend\": {\"bgcolor\": \"#F5F6F9\", \"font\": {\"color\": \"#4D5663\"}}, \"paper_bgcolor\": \"#F5F6F9\", \"plot_bgcolor\": \"#F5F6F9\", \"titlefont\": {\"color\": \"#4D5663\"}, \"xaxis\": {\"gridcolor\": \"#E1E5ED\", \"showgrid\": true, \"tickfont\": {\"color\": \"#4D5663\"}, \"title\": \"\", \"titlefont\": {\"color\": \"#4D5663\"}, \"zerolinecolor\": \"#E1E5ED\"}, \"yaxis\": {\"gridcolor\": \"#E1E5ED\", \"showgrid\": true, \"tickfont\": {\"color\": \"#4D5663\"}, \"title\": \"\", \"titlefont\": {\"color\": \"#4D5663\"}, \"zerolinecolor\": \"#E1E5ED\"}}, {\"showLink\": true, \"linkText\": \"Export to plot.ly\", \"plotlyServerURL\": \"https://plot.ly\"})});</script><script type=\"text/javascript\">window.addEventListener(\"resize\", function(){window._Plotly.Plots.resize(document.getElementById(\"128d4bdc-9e1d-42e9-b2e3-3edb633033ba\"));});</script>"
      ],
      "text/vnd.plotly.v1+html": [
       "<div id=\"128d4bdc-9e1d-42e9-b2e3-3edb633033ba\" style=\"height: 525px; width: 100%;\" class=\"plotly-graph-div\"></div><script type=\"text/javascript\">require([\"plotly\"], function(Plotly) { window.PLOTLYENV=window.PLOTLYENV || {};window.PLOTLYENV.BASE_URL=\"https://plot.ly\";Plotly.newPlot(\"128d4bdc-9e1d-42e9-b2e3-3edb633033ba\", [{\"marker\": {\"color\": \"rgba(55, 128, 191, 0.6)\", \"line\": {\"color\": \"rgba(55, 128, 191, 1.0)\", \"width\": 1}}, \"name\": \"aggregate UNCHR Ratio\", \"orientation\": \"v\", \"text\": \"\", \"x\": [\"Zimbabwe\", \"Sint Maarten (Dutch part)\", \"Croatia\", \"Hong Kong SAR, China\", \"Kenya\", \"Bosnia and Herzegovina\", \"Montenegro\", \"Costa Rica\", \"Rep. of Moldova\", \"Bahamas\", \"Trinidad and Tobago\", \"Uganda\", \"Vanuatu\", \"Yemen\", \"Cameroon\", \"Indonesia\", \"Lebanon\", \"Russian Federation\", \"Nepal\", \"Azerbaijan\", \"Cuba\", \"Kyrgyzstan\", \"Malaysia\", \"Albania\", \"Armenia\", \"Jordan\", \"Sri Lanka\", \"Israel\", \"Serbia (and Kosovo: S/RES/1244 (1999))\", \"Benin\", \"Egypt\", \"China\", \"Chile\", \"Afghanistan\", \"Panama\", \"Syrian Arab Rep.\", \"Kuwait\", \"Congo\", \"Turkey\", \"Georgia\", \"Japan\", \"Thailand\", \"Tajikistan\", \"Chad\", \"Belarus\", \"Czechia\", \"Cambodia\", \"Bolivia (Plurinational State of)\", \"Paraguay\", \"Ecuador\", \"El Salvador\", \"Iraq\", \"Mexico\", \"Lithuania\", \"Hungary\", \"Colombia\", \"Rep. of Korea\", \"Niger\", \"Slovenia\", \"C\\u00f4te d'Ivoire\", \"Morocco\", \"Dominican Rep.\", \"Uruguay\", \"Brazil\", \"Ukraine\", \"Romania\", \"Tunisia\", \"Honduras\", \"Slovakia\", \"Cyprus\", \"Venezuela (Bolivarian Republic of)\", \"Pakistan\", \"India\", \"Togo\", \"Peru\", \"Bulgaria\", \"Philippines\", \"Bangladesh\", \"United Arab Emirates\", \"Argentina\", \"Turkmenistan\", \"Greece\", \"Ireland\", \"United Kingdom\", \"Spain\", \"United States\", \"South Africa\", \"Sweden\", \"Switzerland\", \"Australia\", \"Burkina Faso\", \"Austria\", \"Canada\", \"Bahrain\", \"Grenada\", \"Singapore\", \"Luxembourg\", \"Iceland\", \"Italy\", \"Germany\", \"France\", \"Botswana\", \"Finland\", \"Fiji\", \"Lao People's Dem. Rep.\", \"Latvia\", \"Liechtenstein\", \"Malta\", \"Portugal\", \"Nauru\", \"Belgium\", \"Netherlands\", \"New Zealand\", \"Nicaragua\", \"Nigeria\", \"Norway\", \"Denmark\", \"Guatemala\", \"Poland\", \"Papua New Guinea\"], \"y\": [1.0, 1.0, 1.0, 1.0, 1.0, 1.0, 1.0, 1.0, 1.0, 1.0, 1.0, 1.0, 1.0, 1.0, 1.0, 0.9942528735632183, 0.9930555555555556, 0.9903846153846154, 0.9787234042553191, 0.9758828596037898, 0.959349593495935, 0.9444444444444444, 0.943382873319179, 0.9393939393939394, 0.91701244813278, 0.9, 0.8947368421052632, 0.8823529411764706, 0.8223844282238443, 0.8, 0.7941176470588235, 0.7833333333333333, 0.7674418604651163, 0.7520661157024794, 0.7457627118644068, 0.7365823565700185, 0.7304347826086957, 0.7142857142857143, 0.6909101757107485, 0.6764705882352942, 0.6632825719120136, 0.6115107913669064, 0.6024096385542169, 0.59375, 0.56, 0.5016666666666667, 0.5, 0.47619047619047616, 0.44, 0.3861671469740634, 0.3333333333333333, 0.3208645930604446, 0.2814814814814815, 0.2803738317757009, 0.25076923076923074, 0.25, 0.2488479262672811, 0.23076923076923078, 0.2297872340425532, 0.22271714922049, 0.20588235294117646, 0.2, 0.2, 0.19471947194719472, 0.1899581589958159, 0.17684108527131784, 0.1610738255033557, 0.15789473684210525, 0.14018691588785046, 0.12185243880964959, 0.11538461538461539, 0.09675794486674603, 0.09412432227966208, 0.09090909090909091, 0.08746355685131195, 0.055288461538461536, 0.03607060629316961, 0.02962962962962963, 0.02765167148163434, 0.025423728813559324, 0.0196078431372549, 0.015854743341531054, 0.002103491796381994, 0.0, 0.0, 0.0, 0.0, 0.0, 0.0, 0.0, 0.0, 0.0, 0.0, 0.0, 0.0, 0.0, 0.0, 0.0, 0.0, 0.0, 0.0, 0.0, 0.0, 0.0, 0.0, 0.0, 0.0, 0.0, 0.0, 0.0, 0.0, 0.0, 0.0, 0.0, 0.0, 0.0, 0.0, 0.0, 0.0, 0.0], \"type\": \"bar\", \"uid\": \"650f283e-6e94-4c54-923d-bf8e11209e29\"}], {\"legend\": {\"bgcolor\": \"#F5F6F9\", \"font\": {\"color\": \"#4D5663\"}}, \"paper_bgcolor\": \"#F5F6F9\", \"plot_bgcolor\": \"#F5F6F9\", \"titlefont\": {\"color\": \"#4D5663\"}, \"xaxis\": {\"gridcolor\": \"#E1E5ED\", \"showgrid\": true, \"tickfont\": {\"color\": \"#4D5663\"}, \"title\": \"\", \"titlefont\": {\"color\": \"#4D5663\"}, \"zerolinecolor\": \"#E1E5ED\"}, \"yaxis\": {\"gridcolor\": \"#E1E5ED\", \"showgrid\": true, \"tickfont\": {\"color\": \"#4D5663\"}, \"title\": \"\", \"titlefont\": {\"color\": \"#4D5663\"}, \"zerolinecolor\": \"#E1E5ED\"}}, {\"showLink\": true, \"linkText\": \"Export to plot.ly\", \"plotlyServerURL\": \"https://plot.ly\"})});</script><script type=\"text/javascript\">window.addEventListener(\"resize\", function(){window._Plotly.Plots.resize(document.getElementById(\"128d4bdc-9e1d-42e9-b2e3-3edb633033ba\"));});</script>"
      ]
     },
     "metadata": {},
     "output_type": "display_data"
    }
   ],
   "source": [
    "df_Iran.sort_values(by=[\"aggregate UNCHR Ratio\"],ascending=False)[\"aggregate UNCHR Ratio\"].iplot(kind=\"bar\",color=\"blue\")"
   ]
  },
  {
   "cell_type": "markdown",
   "metadata": {},
   "source": [
    "Question 6) In the past 10 years, What has been the trend in number of refugees processed by UNCHR? What is the average number of refugees processed by UNCHR per year in the past 10 years?"
   ]
  },
  {
   "cell_type": "code",
   "execution_count": 44,
   "metadata": {},
   "outputs": [
    {
     "data": {
      "text/plain": [
       "0        2016.0\n",
       "1        2016.0\n",
       "2        2016.0\n",
       "3        2016.0\n",
       "4        2016.0\n",
       "5        2016.0\n",
       "6        2016.0\n",
       "7        2016.0\n",
       "8        2016.0\n",
       "9        2016.0\n",
       "10       2016.0\n",
       "11       2016.0\n",
       "12       2016.0\n",
       "13       2016.0\n",
       "14       2016.0\n",
       "15       2016.0\n",
       "16       2016.0\n",
       "17       2016.0\n",
       "18       2016.0\n",
       "19       2016.0\n",
       "20       2016.0\n",
       "21       2016.0\n",
       "22       2016.0\n",
       "23       2016.0\n",
       "24       2016.0\n",
       "25       2016.0\n",
       "26       2016.0\n",
       "27       2016.0\n",
       "28       2016.0\n",
       "29       2016.0\n",
       "          ...  \n",
       "96034    1975.0\n",
       "96035    1975.0\n",
       "96036    1975.0\n",
       "96037    1975.0\n",
       "96038    1975.0\n",
       "96039    1975.0\n",
       "96040    1975.0\n",
       "96041    1975.0\n",
       "96042    1975.0\n",
       "96043    1975.0\n",
       "96044    1975.0\n",
       "96045    1975.0\n",
       "96046    1975.0\n",
       "96047    1975.0\n",
       "96048    1975.0\n",
       "96049    1975.0\n",
       "96050    1975.0\n",
       "96051    1975.0\n",
       "96052    1975.0\n",
       "96053    1975.0\n",
       "96054    1975.0\n",
       "96055    1975.0\n",
       "96056    1975.0\n",
       "96057    1975.0\n",
       "96058    1975.0\n",
       "96059    1975.0\n",
       "96060    1975.0\n",
       "96061       NaN\n",
       "96062       NaN\n",
       "96063       NaN\n",
       "Name: Year, Length: 96064, dtype: float32"
      ]
     },
     "execution_count": 44,
     "metadata": {},
     "output_type": "execute_result"
    }
   ],
   "source": [
    "df[\"Year\"]"
   ]
  },
  {
   "cell_type": "code",
   "execution_count": 42,
   "metadata": {},
   "outputs": [],
   "source": [
    "df[\"Year\"] = df[\"Year\"].astype(np.float32)"
   ]
  },
  {
   "cell_type": "code",
   "execution_count": 23,
   "metadata": {},
   "outputs": [
    {
     "data": {
      "application/vnd.plotly.v1+json": {
       "config": {
        "linkText": "Export to plot.ly",
        "plotlyServerURL": "https://plot.ly",
        "showLink": true
       },
       "data": [
        {
         "marker": {
          "color": "rgba(255, 153, 51, 0.6)",
          "line": {
           "color": "rgba(255, 153, 51, 1.0)",
           "width": 1
          }
         },
         "name": "Total refugees and people in refugee-like situations assisted by UNHCR",
         "orientation": "v",
         "text": "",
         "type": "bar",
         "uid": "2955d05f-d3ad-4d7a-8608-24b504f95eba",
         "x": [
          2006,
          2007,
          2008,
          2009,
          2010,
          2011,
          2012,
          2013,
          2014,
          2015,
          2016
         ],
         "y": [
          4473997,
          4503140,
          4598402,
          5512932,
          5848422,
          6058971,
          6648877,
          8519441,
          10794497,
          12287573,
          12903863
         ]
        }
       ],
       "layout": {
        "autosize": true,
        "legend": {
         "bgcolor": "#F5F6F9",
         "font": {
          "color": "#4D5663"
         }
        },
        "paper_bgcolor": "#F5F6F9",
        "plot_bgcolor": "#F5F6F9",
        "titlefont": {
         "color": "#4D5663"
        },
        "xaxis": {
         "autorange": true,
         "gridcolor": "#E1E5ED",
         "range": [
          2005.5,
          2016.5
         ],
         "showgrid": true,
         "tickfont": {
          "color": "#4D5663"
         },
         "title": "",
         "titlefont": {
          "color": "#4D5663"
         },
         "type": "linear",
         "zerolinecolor": "#E1E5ED"
        },
        "yaxis": {
         "autorange": true,
         "gridcolor": "#E1E5ED",
         "range": [
          0,
          13583013.684210526
         ],
         "showgrid": true,
         "tickfont": {
          "color": "#4D5663"
         },
         "title": "",
         "titlefont": {
          "color": "#4D5663"
         },
         "type": "linear",
         "zerolinecolor": "#E1E5ED"
        }
       }
      },
      "image/png": "[encoded data removed]",
      "text/html": [
       "<div id=\"9de1374c-4f17-4e80-9590-14926430eea0\" style=\"height: 525px; width: 100%;\" class=\"plotly-graph-div\"></div><script type=\"text/javascript\">require([\"plotly\"], function(Plotly) { window.PLOTLYENV=window.PLOTLYENV || {};window.PLOTLYENV.BASE_URL=\"https://plot.ly\";Plotly.newPlot(\"9de1374c-4f17-4e80-9590-14926430eea0\", [{\"marker\": {\"color\": \"rgba(255, 153, 51, 0.6)\", \"line\": {\"color\": \"rgba(255, 153, 51, 1.0)\", \"width\": 1}}, \"name\": \"Total refugees and people in refugee-like situations assisted by UNHCR\", \"orientation\": \"v\", \"text\": \"\", \"x\": [2006.0, 2007.0, 2008.0, 2009.0, 2010.0, 2011.0, 2012.0, 2013.0, 2014.0, 2015.0, 2016.0], \"y\": [4473997.0, 4503140.0, 4598402.0, 5512932.0, 5848422.0, 6058971.0, 6648877.0, 8519441.0, 10794497.0, 12287573.0, 12903863.0], \"type\": \"bar\", \"uid\": \"ca618f85-43f6-45db-a45f-484b202e88b5\"}], {\"legend\": {\"bgcolor\": \"#F5F6F9\", \"font\": {\"color\": \"#4D5663\"}}, \"paper_bgcolor\": \"#F5F6F9\", \"plot_bgcolor\": \"#F5F6F9\", \"titlefont\": {\"color\": \"#4D5663\"}, \"xaxis\": {\"gridcolor\": \"#E1E5ED\", \"showgrid\": true, \"tickfont\": {\"color\": \"#4D5663\"}, \"title\": \"\", \"titlefont\": {\"color\": \"#4D5663\"}, \"zerolinecolor\": \"#E1E5ED\"}, \"yaxis\": {\"gridcolor\": \"#E1E5ED\", \"showgrid\": true, \"tickfont\": {\"color\": \"#4D5663\"}, \"title\": \"\", \"titlefont\": {\"color\": \"#4D5663\"}, \"zerolinecolor\": \"#E1E5ED\"}}, {\"showLink\": true, \"linkText\": \"Export to plot.ly\", \"plotlyServerURL\": \"https://plot.ly\"})});</script><script type=\"text/javascript\">window.addEventListener(\"resize\", function(){window._Plotly.Plots.resize(document.getElementById(\"9de1374c-4f17-4e80-9590-14926430eea0\"));});</script>"
      ],
      "text/vnd.plotly.v1+html": [
       "<div id=\"9de1374c-4f17-4e80-9590-14926430eea0\" style=\"height: 525px; width: 100%;\" class=\"plotly-graph-div\"></div><script type=\"text/javascript\">require([\"plotly\"], function(Plotly) { window.PLOTLYENV=window.PLOTLYENV || {};window.PLOTLYENV.BASE_URL=\"https://plot.ly\";Plotly.newPlot(\"9de1374c-4f17-4e80-9590-14926430eea0\", [{\"marker\": {\"color\": \"rgba(255, 153, 51, 0.6)\", \"line\": {\"color\": \"rgba(255, 153, 51, 1.0)\", \"width\": 1}}, \"name\": \"Total refugees and people in refugee-like situations assisted by UNHCR\", \"orientation\": \"v\", \"text\": \"\", \"x\": [2006.0, 2007.0, 2008.0, 2009.0, 2010.0, 2011.0, 2012.0, 2013.0, 2014.0, 2015.0, 2016.0], \"y\": [4473997.0, 4503140.0, 4598402.0, 5512932.0, 5848422.0, 6058971.0, 6648877.0, 8519441.0, 10794497.0, 12287573.0, 12903863.0], \"type\": \"bar\", \"uid\": \"ca618f85-43f6-45db-a45f-484b202e88b5\"}], {\"legend\": {\"bgcolor\": \"#F5F6F9\", \"font\": {\"color\": \"#4D5663\"}}, \"paper_bgcolor\": \"#F5F6F9\", \"plot_bgcolor\": \"#F5F6F9\", \"titlefont\": {\"color\": \"#4D5663\"}, \"xaxis\": {\"gridcolor\": \"#E1E5ED\", \"showgrid\": true, \"tickfont\": {\"color\": \"#4D5663\"}, \"title\": \"\", \"titlefont\": {\"color\": \"#4D5663\"}, \"zerolinecolor\": \"#E1E5ED\"}, \"yaxis\": {\"gridcolor\": \"#E1E5ED\", \"showgrid\": true, \"tickfont\": {\"color\": \"#4D5663\"}, \"title\": \"\", \"titlefont\": {\"color\": \"#4D5663\"}, \"zerolinecolor\": \"#E1E5ED\"}}, {\"showLink\": true, \"linkText\": \"Export to plot.ly\", \"plotlyServerURL\": \"https://plot.ly\"})});</script><script type=\"text/javascript\">window.addEventListener(\"resize\", function(){window._Plotly.Plots.resize(document.getElementById(\"9de1374c-4f17-4e80-9590-14926430eea0\"));});</script>"
      ]
     },
     "metadata": {},
     "output_type": "display_data"
    }
   ],
   "source": [
    "df[df[\"Year\"]>2005].groupby(df[\"Year\"])[\"Total refugees and people in refugee-like situations assisted by UNHCR\"].sum().iplot(kind=\"bar\")"
   ]
  },
  {
   "cell_type": "code",
   "execution_count": 24,
   "metadata": {},
   "outputs": [
    {
     "data": {
      "text/plain": [
       "8215011.5"
      ]
     },
     "execution_count": 24,
     "metadata": {},
     "output_type": "execute_result"
    }
   ],
   "source": [
    "df[df[\"Year\"]>2005][\"Total refugees and people in refugee-like situations assisted by UNHCR\"].sum()/10"
   ]
  },
  {
   "cell_type": "code",
   "execution_count": null,
   "metadata": {},
   "outputs": [],
   "source": []
  }
 ],
 "metadata": {
  "kernelspec": {
   "display_name": "Python 3",
   "language": "python",
   "name": "python3"
  },
  "language_info": {
   "codemirror_mode": {
    "name": "ipython",
    "version": 3
   },
   "file_extension": ".py",
   "mimetype": "text/x-python",
   "name": "python",
   "nbconvert_exporter": "python",
   "pygments_lexer": "ipython3",
   "version": "3.6.7"
  }
 },
 "nbformat": 4,
 "nbformat_minor": 2
}
