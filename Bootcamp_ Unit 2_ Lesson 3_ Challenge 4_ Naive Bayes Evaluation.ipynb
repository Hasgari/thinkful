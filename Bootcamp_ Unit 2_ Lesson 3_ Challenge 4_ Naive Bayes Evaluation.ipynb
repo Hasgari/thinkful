{
 "cells": [
  {
   "cell_type": "code",
   "execution_count": 1,
   "metadata": {},
   "outputs": [],
   "source": [
    "import pandas as pd\n",
    "import numpy as np\n",
    "import io\n",
    "from sklearn.naive_bayes import BernoulliNB\n",
    "from sklearn.metrics import confusion_matrix\n",
    "from sklearn.model_selection import cross_val_score"
   ]
  },
  {
   "cell_type": "code",
   "execution_count": 2,
   "metadata": {},
   "outputs": [
    {
     "name": "stdout",
     "output_type": "stream",
     "text": [
      "So there is no way for me to plug it in here in the US unless I go by a converter.\t0\n",
      "\n"
     ]
    }
   ],
   "source": [
    "with open(\"amazon_cells_labelled.txt\",\"r\") as file:\n",
    "    print(file.readlines()[0])"
   ]
  },
  {
   "cell_type": "code",
   "execution_count": 3,
   "metadata": {},
   "outputs": [],
   "source": [
    "df = pd.read_csv(\"amazon_cells_labelled.txt\",sep = \"\\t\",header = None)"
   ]
  },
  {
   "cell_type": "code",
   "execution_count": 4,
   "metadata": {},
   "outputs": [],
   "source": [
    "df.columns = [\"Sentence\", \"Opinion\"]"
   ]
  },
  {
   "cell_type": "code",
   "execution_count": 5,
   "metadata": {},
   "outputs": [
    {
     "data": {
      "text/html": [
       "<div>\n",
       "<style scoped>\n",
       "    .dataframe tbody tr th:only-of-type {\n",
       "        vertical-align: middle;\n",
       "    }\n",
       "\n",
       "    .dataframe tbody tr th {\n",
       "        vertical-align: top;\n",
       "    }\n",
       "\n",
       "    .dataframe thead th {\n",
       "        text-align: right;\n",
       "    }\n",
       "</style>\n",
       "<table border=\"1\" class=\"dataframe\">\n",
       "  <thead>\n",
       "    <tr style=\"text-align: right;\">\n",
       "      <th></th>\n",
       "      <th>Sentence</th>\n",
       "      <th>Opinion</th>\n",
       "    </tr>\n",
       "  </thead>\n",
       "  <tbody>\n",
       "    <tr>\n",
       "      <th>0</th>\n",
       "      <td>So there is no way for me to plug it in here i...</td>\n",
       "      <td>0</td>\n",
       "    </tr>\n",
       "    <tr>\n",
       "      <th>1</th>\n",
       "      <td>Good case, Excellent value.</td>\n",
       "      <td>1</td>\n",
       "    </tr>\n",
       "    <tr>\n",
       "      <th>2</th>\n",
       "      <td>Great for the jawbone.</td>\n",
       "      <td>1</td>\n",
       "    </tr>\n",
       "    <tr>\n",
       "      <th>3</th>\n",
       "      <td>Tied to charger for conversations lasting more...</td>\n",
       "      <td>0</td>\n",
       "    </tr>\n",
       "    <tr>\n",
       "      <th>4</th>\n",
       "      <td>The mic is great.</td>\n",
       "      <td>1</td>\n",
       "    </tr>\n",
       "  </tbody>\n",
       "</table>\n",
       "</div>"
      ],
      "text/plain": [
       "                                            Sentence  Opinion\n",
       "0  So there is no way for me to plug it in here i...        0\n",
       "1                        Good case, Excellent value.        1\n",
       "2                             Great for the jawbone.        1\n",
       "3  Tied to charger for conversations lasting more...        0\n",
       "4                                  The mic is great.        1"
      ]
     },
     "execution_count": 5,
     "metadata": {},
     "output_type": "execute_result"
    }
   ],
   "source": [
    "df.head(5)"
   ]
  },
  {
   "cell_type": "code",
   "execution_count": 6,
   "metadata": {},
   "outputs": [],
   "source": [
    "predictive_terms = [\"good\",\"satisfied\",\"perfect\",\"impressed\",\"amazing\",\"great deal\",\"great price\",\"comfortable\",\"excellent\",\"highly recommend\",\"works great\",\"works fine\",\"easy\",\"trouble\",\"horrible\",\"disappointing\",\"shout\",\"couldn't hear\",\"broke\",\"terrible\",\"poor\",\"waste\"]"
   ]
  },
  {
   "cell_type": "code",
   "execution_count": 7,
   "metadata": {},
   "outputs": [],
   "source": [
    "for var in predictive_terms:\n",
    "    df[var] = [1 if var in x.lower() else 0 for x in df[\"Sentence\"]]"
   ]
  },
  {
   "cell_type": "code",
   "execution_count": 8,
   "metadata": {},
   "outputs": [
    {
     "data": {
      "text/html": [
       "<div>\n",
       "<style scoped>\n",
       "    .dataframe tbody tr th:only-of-type {\n",
       "        vertical-align: middle;\n",
       "    }\n",
       "\n",
       "    .dataframe tbody tr th {\n",
       "        vertical-align: top;\n",
       "    }\n",
       "\n",
       "    .dataframe thead th {\n",
       "        text-align: right;\n",
       "    }\n",
       "</style>\n",
       "<table border=\"1\" class=\"dataframe\">\n",
       "  <thead>\n",
       "    <tr style=\"text-align: right;\">\n",
       "      <th></th>\n",
       "      <th>Sentence</th>\n",
       "      <th>Opinion</th>\n",
       "      <th>good</th>\n",
       "      <th>satisfied</th>\n",
       "      <th>perfect</th>\n",
       "      <th>impressed</th>\n",
       "      <th>amazing</th>\n",
       "      <th>great deal</th>\n",
       "      <th>great price</th>\n",
       "      <th>comfortable</th>\n",
       "      <th>...</th>\n",
       "      <th>easy</th>\n",
       "      <th>trouble</th>\n",
       "      <th>horrible</th>\n",
       "      <th>disappointing</th>\n",
       "      <th>shout</th>\n",
       "      <th>couldn't hear</th>\n",
       "      <th>broke</th>\n",
       "      <th>terrible</th>\n",
       "      <th>poor</th>\n",
       "      <th>waste</th>\n",
       "    </tr>\n",
       "  </thead>\n",
       "  <tbody>\n",
       "    <tr>\n",
       "      <th>0</th>\n",
       "      <td>So there is no way for me to plug it in here i...</td>\n",
       "      <td>0</td>\n",
       "      <td>0</td>\n",
       "      <td>0</td>\n",
       "      <td>0</td>\n",
       "      <td>0</td>\n",
       "      <td>0</td>\n",
       "      <td>0</td>\n",
       "      <td>0</td>\n",
       "      <td>0</td>\n",
       "      <td>...</td>\n",
       "      <td>0</td>\n",
       "      <td>0</td>\n",
       "      <td>0</td>\n",
       "      <td>0</td>\n",
       "      <td>0</td>\n",
       "      <td>0</td>\n",
       "      <td>0</td>\n",
       "      <td>0</td>\n",
       "      <td>0</td>\n",
       "      <td>0</td>\n",
       "    </tr>\n",
       "    <tr>\n",
       "      <th>1</th>\n",
       "      <td>Good case, Excellent value.</td>\n",
       "      <td>1</td>\n",
       "      <td>1</td>\n",
       "      <td>0</td>\n",
       "      <td>0</td>\n",
       "      <td>0</td>\n",
       "      <td>0</td>\n",
       "      <td>0</td>\n",
       "      <td>0</td>\n",
       "      <td>0</td>\n",
       "      <td>...</td>\n",
       "      <td>0</td>\n",
       "      <td>0</td>\n",
       "      <td>0</td>\n",
       "      <td>0</td>\n",
       "      <td>0</td>\n",
       "      <td>0</td>\n",
       "      <td>0</td>\n",
       "      <td>0</td>\n",
       "      <td>0</td>\n",
       "      <td>0</td>\n",
       "    </tr>\n",
       "    <tr>\n",
       "      <th>2</th>\n",
       "      <td>Great for the jawbone.</td>\n",
       "      <td>1</td>\n",
       "      <td>0</td>\n",
       "      <td>0</td>\n",
       "      <td>0</td>\n",
       "      <td>0</td>\n",
       "      <td>0</td>\n",
       "      <td>0</td>\n",
       "      <td>0</td>\n",
       "      <td>0</td>\n",
       "      <td>...</td>\n",
       "      <td>0</td>\n",
       "      <td>0</td>\n",
       "      <td>0</td>\n",
       "      <td>0</td>\n",
       "      <td>0</td>\n",
       "      <td>0</td>\n",
       "      <td>0</td>\n",
       "      <td>0</td>\n",
       "      <td>0</td>\n",
       "      <td>0</td>\n",
       "    </tr>\n",
       "    <tr>\n",
       "      <th>3</th>\n",
       "      <td>Tied to charger for conversations lasting more...</td>\n",
       "      <td>0</td>\n",
       "      <td>0</td>\n",
       "      <td>0</td>\n",
       "      <td>0</td>\n",
       "      <td>0</td>\n",
       "      <td>0</td>\n",
       "      <td>0</td>\n",
       "      <td>0</td>\n",
       "      <td>0</td>\n",
       "      <td>...</td>\n",
       "      <td>0</td>\n",
       "      <td>0</td>\n",
       "      <td>0</td>\n",
       "      <td>0</td>\n",
       "      <td>0</td>\n",
       "      <td>0</td>\n",
       "      <td>0</td>\n",
       "      <td>0</td>\n",
       "      <td>0</td>\n",
       "      <td>0</td>\n",
       "    </tr>\n",
       "    <tr>\n",
       "      <th>4</th>\n",
       "      <td>The mic is great.</td>\n",
       "      <td>1</td>\n",
       "      <td>0</td>\n",
       "      <td>0</td>\n",
       "      <td>0</td>\n",
       "      <td>0</td>\n",
       "      <td>0</td>\n",
       "      <td>0</td>\n",
       "      <td>0</td>\n",
       "      <td>0</td>\n",
       "      <td>...</td>\n",
       "      <td>0</td>\n",
       "      <td>0</td>\n",
       "      <td>0</td>\n",
       "      <td>0</td>\n",
       "      <td>0</td>\n",
       "      <td>0</td>\n",
       "      <td>0</td>\n",
       "      <td>0</td>\n",
       "      <td>0</td>\n",
       "      <td>0</td>\n",
       "    </tr>\n",
       "  </tbody>\n",
       "</table>\n",
       "<p>5 rows × 24 columns</p>\n",
       "</div>"
      ],
      "text/plain": [
       "                                            Sentence  Opinion  good  \\\n",
       "0  So there is no way for me to plug it in here i...        0     0   \n",
       "1                        Good case, Excellent value.        1     1   \n",
       "2                             Great for the jawbone.        1     0   \n",
       "3  Tied to charger for conversations lasting more...        0     0   \n",
       "4                                  The mic is great.        1     0   \n",
       "\n",
       "   satisfied  perfect  impressed  amazing  great deal  great price  \\\n",
       "0          0        0          0        0           0            0   \n",
       "1          0        0          0        0           0            0   \n",
       "2          0        0          0        0           0            0   \n",
       "3          0        0          0        0           0            0   \n",
       "4          0        0          0        0           0            0   \n",
       "\n",
       "   comfortable  ...  easy  trouble  horrible  disappointing  shout  \\\n",
       "0            0  ...     0        0         0              0      0   \n",
       "1            0  ...     0        0         0              0      0   \n",
       "2            0  ...     0        0         0              0      0   \n",
       "3            0  ...     0        0         0              0      0   \n",
       "4            0  ...     0        0         0              0      0   \n",
       "\n",
       "   couldn't hear  broke  terrible  poor  waste  \n",
       "0              0      0         0     0      0  \n",
       "1              0      0         0     0      0  \n",
       "2              0      0         0     0      0  \n",
       "3              0      0         0     0      0  \n",
       "4              0      0         0     0      0  \n",
       "\n",
       "[5 rows x 24 columns]"
      ]
     },
     "execution_count": 8,
     "metadata": {},
     "output_type": "execute_result"
    }
   ],
   "source": [
    "df.head(5)"
   ]
  },
  {
   "cell_type": "code",
   "execution_count": 9,
   "metadata": {},
   "outputs": [
    {
     "name": "stdout",
     "output_type": "stream",
     "text": [
      "Opinion             1.000000\n",
      "good                0.186035\n",
      "excellent           0.154242\n",
      "works great         0.131507\n",
      "easy                0.090259\n",
      "highly recommend    0.089803\n",
      "perfect             0.083960\n",
      "works fine          0.077693\n",
      "satisfied           0.063372\n",
      "great price         0.054855\n",
      "great deal          0.054855\n",
      "comfortable         0.051273\n",
      "couldn't hear       0.031639\n",
      "amazing             0.031639\n",
      "impressed           0.010589\n",
      "trouble            -0.018285\n",
      "shout              -0.031639\n",
      "disappointing      -0.070888\n",
      "horrible           -0.083960\n",
      "terrible           -0.100504\n",
      "broke              -0.100504\n",
      "waste              -0.127515\n",
      "poor               -0.131507\n",
      "Name: Opinion, dtype: float64\n",
      "['good', 'excellent', 'works great', 'broke', 'terrible', 'poor', 'waste', 'Opinion']\n"
     ]
    }
   ],
   "source": [
    "data = df[predictive_terms+[\"Opinion\"]]\n",
    "print(data.corr()[\"Opinion\"].sort_values(ascending = False))\n",
    "result = []\n",
    "i = 0\n",
    "data_corr = data.corr()\n",
    "data_corr[\"id\"] = data_corr.index\n",
    "for corr_value in data_corr[\"Opinion\"]:\n",
    "    if abs(corr_value)>= 0.1:\n",
    "        result.append(data_corr[\"id\"][i])\n",
    "    i += 1\n",
    "print(result)"
   ]
  },
  {
   "cell_type": "code",
   "execution_count": 10,
   "metadata": {},
   "outputs": [
    {
     "name": "stdout",
     "output_type": "stream",
     "text": [
      "['good']\n",
      "[0.545 0.58  0.54  0.515 0.565]\n",
      "----------------------------------------\n",
      "['good', 'excellent']\n",
      "[0.565 0.605 0.56  0.535 0.595]\n",
      "----------------------------------------\n",
      "['good', 'excellent', 'works great']\n",
      "[0.59  0.63  0.58  0.545 0.6  ]\n",
      "----------------------------------------\n",
      "['good', 'excellent', 'works great', 'broke']\n",
      "[0.59  0.63  0.58  0.545 0.6  ]\n",
      "----------------------------------------\n",
      "['good', 'excellent', 'works great', 'broke', 'terrible']\n",
      "[0.59  0.63  0.58  0.545 0.6  ]\n",
      "----------------------------------------\n",
      "['good', 'excellent', 'works great', 'broke', 'terrible', 'poor']\n",
      "[0.59  0.63  0.58  0.545 0.6  ]\n",
      "----------------------------------------\n",
      "['good', 'excellent', 'works great', 'broke', 'terrible', 'poor', 'waste']\n",
      "[0.59  0.63  0.58  0.545 0.6  ]\n",
      "----------------------------------------\n"
     ]
    }
   ],
   "source": [
    "for i in range(len(result)-1):\n",
    "    x = df[result[:i+1]]\n",
    "    y = df[\"Opinion\"]\n",
    "    print(list(x.columns))\n",
    "    bnb = BernoulliNB()\n",
    "    print(cross_val_score(bnb,x,y,cv = 5))\n",
    "    print(\"-\"*40)"
   ]
  },
  {
   "cell_type": "code",
   "execution_count": 11,
   "metadata": {},
   "outputs": [
    {
     "ename": "SyntaxError",
     "evalue": "invalid syntax (<ipython-input-11-bf0b91ddf9bb>, line 7)",
     "output_type": "error",
     "traceback": [
      "\u001b[0;36m  File \u001b[0;32m\"<ipython-input-11-bf0b91ddf9bb>\"\u001b[0;36m, line \u001b[0;32m7\u001b[0m\n\u001b[0;31m    print ()\u001b[0m\n\u001b[0m        ^\u001b[0m\n\u001b[0;31mSyntaxError\u001b[0m\u001b[0;31m:\u001b[0m invalid syntax\n"
     ]
    }
   ],
   "source": [
    "bnb = BernoulliNB()\n",
    "x = df[predictive_terms]\n",
    "y = df[\"Opinion\"]\n",
    "bnb.fit(x,y)\n",
    "conf_mat = confusion_matrix(y,y_predicted)\n",
    "print(\"Accuracy = \", conf_mat[0][0]/(conf_mat[0][0]+conf_mat[0][1]+conf_mat[1][0]+conf_mat[1][1])\n",
    "print ()"
   ]
  },
  {
   "cell_type": "code",
   "execution_count": null,
   "metadata": {},
   "outputs": [],
   "source": []
  }
 ],
 "metadata": {
  "kernelspec": {
   "display_name": "Python 3",
   "language": "python",
   "name": "python3"
  },
  "language_info": {
   "codemirror_mode": {
    "name": "ipython",
    "version": 3
   },
   "file_extension": ".py",
   "mimetype": "text/x-python",
   "name": "python",
   "nbconvert_exporter": "python",
   "pygments_lexer": "ipython3",
   "version": "3.6.7"
  }
 },
 "nbformat": 4,
 "nbformat_minor": 2
}
