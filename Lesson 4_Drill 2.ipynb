{
 "cells": [
  {
   "cell_type": "code",
   "execution_count": 1,
   "metadata": {},
   "outputs": [],
   "source": [
    "import numpy as np\n",
    "import pandas as pd\n",
    "import matplotlib.pyplot as plt\n",
    "%matplotlib inline"
   ]
  },
  {
   "cell_type": "code",
   "execution_count": 2,
   "metadata": {},
   "outputs": [],
   "source": [
    "pop1 = np.random.binomial(10,0.2,10000)\n",
    "pop2 = np.random.binomial(10,0.5,10000)"
   ]
  },
  {
   "cell_type": "code",
   "execution_count": 3,
   "metadata": {},
   "outputs": [],
   "source": [
    "Samp1 = np.random.choice(pop1,100,replace=True)\n",
    "Samp2 = np.random.choice(pop2,100,replace=True)"
   ]
  },
  {
   "cell_type": "code",
   "execution_count": 4,
   "metadata": {},
   "outputs": [],
   "source": [
    "Mu1 = Samp1.mean()\n",
    "Sigma1 = Samp1.std()\n",
    "Mu2 = Samp2.mean()\n",
    "Sigma2 = Samp2.std()"
   ]
  },
  {
   "cell_type": "code",
   "execution_count": 8,
   "metadata": {},
   "outputs": [
    {
     "name": "stdout",
     "output_type": "stream",
     "text": [
      "2.03\n",
      "1.2605950975630518\n",
      "5.0\n",
      "1.5427248620541512\n"
     ]
    }
   ],
   "source": [
    "print(str(Mu1)+\"\\n\"+str(Sigma1)+\"\\n\"+str(Mu2)+\"\\n\"+str(Sigma2))"
   ]
  },
  {
   "cell_type": "code",
   "execution_count": 9,
   "metadata": {},
   "outputs": [],
   "source": [
    "Samp1 = np.random.choice(pop1,1000,replace=True)\n",
    "Samp2 = np.random.choice(pop2,1000,replace=True)"
   ]
  },
  {
   "cell_type": "code",
   "execution_count": 10,
   "metadata": {},
   "outputs": [],
   "source": [
    "Mu1 = Samp1.mean()\n",
    "Sigma1 = Samp1.std()\n",
    "Mu2 = Samp2.mean()\n",
    "Sigma2 = Samp2.std()"
   ]
  },
  {
   "cell_type": "code",
   "execution_count": 11,
   "metadata": {},
   "outputs": [
    {
     "name": "stdout",
     "output_type": "stream",
     "text": [
      "1.972\n",
      "1.2358058099879607\n",
      "4.986\n",
      "1.5329070421914044\n"
     ]
    }
   ],
   "source": [
    "print(str(Mu1)+\"\\n\"+str(Sigma1)+\"\\n\"+str(Mu2)+\"\\n\"+str(Sigma2))"
   ]
  },
  {
   "cell_type": "code",
   "execution_count": 13,
   "metadata": {},
   "outputs": [
    {
     "name": "stdout",
     "output_type": "stream",
     "text": [
      "3.02\n",
      "1.3854963009694394\n"
     ]
    }
   ],
   "source": [
    "pop1 = np.random.binomial(10,0.3,10000)\n",
    "Samp1 = np.random.choice(pop1,100,replace=True)\n",
    "Mu1 = Samp1.mean()\n",
    "Sigma1 = Samp1.std()\n",
    "print(str(Mu1)+\"\\n\"+str(Sigma1))"
   ]
  },
  {
   "cell_type": "code",
   "execution_count": null,
   "metadata": {},
   "outputs": [],
   "source": []
  },
  {
   "cell_type": "code",
   "execution_count": 14,
   "metadata": {},
   "outputs": [
    {
     "name": "stdout",
     "output_type": "stream",
     "text": [
      "3.94\n",
      "1.412940196894405\n"
     ]
    }
   ],
   "source": [
    "pop1 = np.random.binomial(10,0.4,10000)\n",
    "Samp1 = np.random.choice(pop1,100,replace=True)\n",
    "Mu1 = Samp1.mean()\n",
    "Sigma1 = Samp1.std()\n",
    "print(str(Mu1)+\"\\n\"+str(Sigma1))"
   ]
  },
  {
   "cell_type": "code",
   "execution_count": 17,
   "metadata": {},
   "outputs": [],
   "source": [
    "pop1 = np.random.poisson(5,10000)\n",
    "pop2 = np.random.poisson(3,10000)"
   ]
  },
  {
   "cell_type": "code",
   "execution_count": 18,
   "metadata": {},
   "outputs": [
    {
     "name": "stdout",
     "output_type": "stream",
     "text": [
      "5.02\n",
      "2.315080992103732\n",
      "2.97\n",
      "1.596590116466966\n"
     ]
    }
   ],
   "source": [
    "Samp1 = np.random.choice(pop1,100,replace=True)\n",
    "Samp2 = np.random.choice(pop2,100,replace=True)\n",
    "Mu1 = Samp1.mean()\n",
    "Sigma1 = Samp1.std()\n",
    "Mu2 = Samp2.mean()\n",
    "Sigma2 = Samp2.std()\n",
    "print(str(Mu1)+\"\\n\"+str(Sigma1)+\"\\n\"+str(Mu2)+\"\\n\"+str(Sigma2))"
   ]
  },
  {
   "cell_type": "code",
   "execution_count": 19,
   "metadata": {},
   "outputs": [
    {
     "name": "stdout",
     "output_type": "stream",
     "text": [
      "5.011\n",
      "2.2962750270819043\n",
      "3.041\n",
      "1.7097716221764823\n"
     ]
    }
   ],
   "source": [
    "Samp1 = np.random.choice(pop1,1000,replace=True)\n",
    "Samp2 = np.random.choice(pop2,1000,replace=True)\n",
    "Mu1 = Samp1.mean()\n",
    "Sigma1 = Samp1.std()\n",
    "Mu2 = Samp2.mean()\n",
    "Sigma2 = Samp2.std()\n",
    "print(str(Mu1)+\"\\n\"+str(Sigma1)+\"\\n\"+str(Mu2)+\"\\n\"+str(Sigma2))"
   ]
  },
  {
   "cell_type": "code",
   "execution_count": null,
   "metadata": {},
   "outputs": [],
   "source": []
  }
 ],
 "metadata": {
  "kernelspec": {
   "display_name": "Python 3",
   "language": "python",
   "name": "python3"
  },
  "language_info": {
   "codemirror_mode": {
    "name": "ipython",
    "version": 3
   },
   "file_extension": ".py",
   "mimetype": "text/x-python",
   "name": "python",
   "nbconvert_exporter": "python",
   "pygments_lexer": "ipython3",
   "version": "3.6.7"
  }
 },
 "nbformat": 4,
 "nbformat_minor": 2
}
