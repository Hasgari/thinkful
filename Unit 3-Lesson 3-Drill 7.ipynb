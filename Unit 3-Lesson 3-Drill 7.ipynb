{
 "cells": [
  {
   "cell_type": "markdown",
   "metadata": {},
   "source": [
    "The objective of this drill is to explore the Central Limit Theorem."
   ]
  },
  {
   "cell_type": "code",
   "execution_count": 1,
   "metadata": {},
   "outputs": [],
   "source": [
    "import numpy as np\n",
    "import pandas as pd\n",
    "import matplotlib.pyplot as plt\n",
    "%matplotlib inline\n",
    "from scipy.stats import ttest_ind"
   ]
  },
  {
   "cell_type": "markdown",
   "metadata": {},
   "source": [
    "Define two binomial population."
   ]
  },
  {
   "cell_type": "code",
   "execution_count": 2,
   "metadata": {},
   "outputs": [
    {
     "name": "stdout",
     "output_type": "stream",
     "text": [
      "Pop1_mean = 2.0034\n",
      "Pop1_Standard deviation = 1.2695623025279223\n",
      "Pop2_mean = 4.9833\n",
      "Pop2_Standard deviation = 1.59116973010424\n"
     ]
    }
   ],
   "source": [
    "pop1 = np.random.binomial(10,0.2,10000)\n",
    "pop2 = np.random.binomial(10,0.5,10000)\n",
    "Mu1 = pop1.mean()\n",
    "Sigma1 = pop1.std()\n",
    "Mu2 = pop2.mean()\n",
    "Sigma2 = pop2.std()\n",
    "print(\"Pop1_mean = \" + str(Mu1) + \"\\nPop1_Standard deviation = \" + str(Sigma1) + \"\\nPop2_mean = \"+str(Mu2) + \"\\nPop2_Standard deviation = \" + str(Sigma2))"
   ]
  },
  {
   "cell_type": "markdown",
   "metadata": {},
   "source": [
    "Draw samples of size=100 from each of them."
   ]
  },
  {
   "cell_type": "code",
   "execution_count": 3,
   "metadata": {},
   "outputs": [
    {
     "name": "stdout",
     "output_type": "stream",
     "text": [
      "Sample 1_mean = 2.11\n",
      "Sample 1_Standard deviation = 1.2401209618420295\n",
      "Sample 2_mean = 4.87\n",
      "Sample 2_Standard deviation = 1.6592468170829797\n"
     ]
    }
   ],
   "source": [
    "Samp1 = np.random.choice(pop1,100,replace=True)\n",
    "Samp2 = np.random.choice(pop2,100,replace=True)\n",
    "Mu1 = Samp1.mean()\n",
    "Sigma1 = Samp1.std()\n",
    "Mu2 = Samp2.mean()\n",
    "Sigma2 = Samp2.std()\n",
    "print(\"Sample 1_mean = \" + str(Mu1) + \"\\nSample 1_Standard deviation = \" + str(Sigma1) + \"\\nSample 2_mean = \"+str(Mu2) + \"\\nSample 2_Standard deviation = \" + str(Sigma2))"
   ]
  },
  {
   "cell_type": "markdown",
   "metadata": {},
   "source": [
    "Increase sample size"
   ]
  },
  {
   "cell_type": "code",
   "execution_count": 4,
   "metadata": {},
   "outputs": [
    {
     "name": "stdout",
     "output_type": "stream",
     "text": [
      "Sample 1_mean = 1.951\n",
      "Sample 1_Standard deviation = 1.283198737530551\n",
      "Sample 2_mean = 4.948\n",
      " Sample 2_Standard deviation = 1.630734803700467\n"
     ]
    }
   ],
   "source": [
    "Samp1 = np.random.choice(pop1,1000,replace=True)\n",
    "Samp2 = np.random.choice(pop2,1000,replace=True)\n",
    "Mu1 = Samp1.mean()\n",
    "Sigma1 = Samp1.std()\n",
    "Mu2 = Samp2.mean()\n",
    "Sigma2 = Samp2.std()\n",
    "print(\"Sample 1_mean = \" + str(Mu1) + \"\\nSample 1_Standard deviation = \" + str(Sigma1) + \"\\nSample 2_mean = \"+str(Mu2) + \"\\n Sample 2_Standard deviation = \" + str(Sigma2))"
   ]
  },
  {
   "cell_type": "markdown",
   "metadata": {},
   "source": [
    "Decrease sample size."
   ]
  },
  {
   "cell_type": "code",
   "execution_count": 5,
   "metadata": {},
   "outputs": [
    {
     "name": "stdout",
     "output_type": "stream",
     "text": [
      "Sample 1_mean = 1.95\n",
      "Sample 1_Standard deviation = 1.023474474522936\n",
      "Sample 2_mean = 4.9\n",
      "Sample 2_Standard deviation = 1.6401219466856725\n"
     ]
    }
   ],
   "source": [
    "Samp1 = np.random.choice(pop1,20,replace=True)\n",
    "Samp2 = np.random.choice(pop2,20,replace=True)\n",
    "Mu1 = Samp1.mean()\n",
    "Sigma1 = Samp1.std()\n",
    "Mu2 = Samp2.mean()\n",
    "Sigma2 = Samp2.std()\n",
    "print(\"Sample 1_mean = \" + str(Mu1) + \"\\nSample 1_Standard deviation = \" + str(Sigma1) + \"\\nSample 2_mean = \"+str(Mu2) + \"\\nSample 2_Standard deviation = \" + str(Sigma2))"
   ]
  },
  {
   "cell_type": "markdown",
   "metadata": {},
   "source": [
    "Now we try to make the two populations closer by increasing the probability value of the first population. What happens is as the two populations become more and more similar, the difference in means shrinks, which results in a decrease in correspondent t values (equivalent to an increase in the P-value)."
   ]
  },
  {
   "cell_type": "code",
   "execution_count": 13,
   "metadata": {},
   "outputs": [
    {
     "name": "stdout",
     "output_type": "stream",
     "text": [
      "Sample 1_mean = 3.03\n",
      "Sample 1_Standard deviation = 1.41742724681022\n",
      "Sample 2_mean = 5.08\n",
      "Sample 2_Standard deviation = 1.3541048703848606\n",
      "Ttest_indResult(statistic=-10.405266747148737, pvalue=1.6908901350671763e-20)\n"
     ]
    }
   ],
   "source": [
    "pop1 = np.random.binomial(10,0.3,10000)\n",
    "pop2 = np.random.binomial(10,0.5,10000)\n",
    "Samp1 = np.random.choice(pop1,100,replace=True)\n",
    "Samp2 = np.random.choice(pop2,100,replace=True)\n",
    "Mu1 = Samp1.mean()\n",
    "Sigma1 = Samp1.std()\n",
    "Mu2 = Samp2.mean()\n",
    "Sigma2 = Samp2.std()\n",
    "print(\"Sample 1_mean = \" + str(Mu1) + \"\\nSample 1_Standard deviation = \" + str(Sigma1) + \"\\nSample 2_mean = \"+str(Mu2) + \"\\nSample 2_Standard deviation = \" + str(Sigma2))\n",
    "print(ttest_ind(Samp1,Samp2,equal_var=False))"
   ]
  },
  {
   "cell_type": "code",
   "execution_count": 14,
   "metadata": {},
   "outputs": [
    {
     "name": "stdout",
     "output_type": "stream",
     "text": [
      "Sample 1_mean = 3.97\n",
      "Sample 1_Standard deviation = 1.5585570249432645\n",
      "Sample 2_mean = 4.97\n",
      "Sample 2_Standard deviation = 1.5840138888279989\n",
      "Ttest_indResult(statistic=-4.477475928797946, pvalue=1.2743584477564459e-05)\n"
     ]
    }
   ],
   "source": [
    "pop1 = np.random.binomial(10,0.4,10000)\n",
    "Samp1 = np.random.choice(pop1,100,replace=True)\n",
    "Samp2= np.random.choice(pop2,100,replace=True)\n",
    "Mu1 = Samp1.mean()\n",
    "Sigma1 = Samp1.std()\n",
    "Mu2 = Samp2.mean()\n",
    "Sigma2 = Samp2.std()\n",
    "print(\"Sample 1_mean = \" + str(Mu1) + \"\\nSample 1_Standard deviation = \" + str(Sigma1) + \"\\nSample 2_mean = \"+str(Mu2) + \"\\nSample 2_Standard deviation = \" + str(Sigma2))\n",
    "print(ttest_ind(Samp1,Samp2,equal_var=False))"
   ]
  },
  {
   "cell_type": "markdown",
   "metadata": {},
   "source": [
    "Changed the distribution from Binomial to Poisson. As long as the sample size is large, sample mean and standard deviation is a good estimate of the population attributes, regardless of the distribution."
   ]
  },
  {
   "cell_type": "code",
   "execution_count": 8,
   "metadata": {},
   "outputs": [],
   "source": [
    "pop1 = np.random.poisson(5,10000)\n",
    "pop2 = np.random.poisson(3,10000)"
   ]
  },
  {
   "cell_type": "code",
   "execution_count": 9,
   "metadata": {},
   "outputs": [
    {
     "name": "stdout",
     "output_type": "stream",
     "text": [
      "Sample 1_mean = 5.04\n",
      "Sample 1_Standard deviation = 2.0972362766269326\n",
      "Sample 2_mean = 3.03\n",
      "Sample 2_Standard deviation = 1.8517829246431667\n"
     ]
    }
   ],
   "source": [
    "Samp1 = np.random.choice(pop1,100,replace=True)\n",
    "Samp2 = np.random.choice(pop2,100,replace=True)\n",
    "Mu1 = Samp1.mean()\n",
    "Sigma1 = Samp1.std()\n",
    "Mu2 = Samp2.mean()\n",
    "Sigma2 = Samp2.std()\n",
    "print(\"Sample 1_mean = \" + str(Mu1) + \"\\nSample 1_Standard deviation = \" + str(Sigma1) + \"\\nSample 2_mean = \"+str(Mu2) + \"\\nSample 2_Standard deviation = \" + str(Sigma2))"
   ]
  },
  {
   "cell_type": "code",
   "execution_count": 10,
   "metadata": {},
   "outputs": [
    {
     "name": "stdout",
     "output_type": "stream",
     "text": [
      "Sample 1_mean = 4.925\n",
      "Sample 1_Standard deviation = 2.2515272594396896\n",
      "Sample 2_mean = 2.969\n",
      "Sample 2_Standard deviation = 1.6613365101628266\n"
     ]
    }
   ],
   "source": [
    "Samp1 = np.random.choice(pop1,1000,replace=True)\n",
    "Samp2 = np.random.choice(pop2,1000,replace=True)\n",
    "Mu1 = Samp1.mean()\n",
    "Sigma1 = Samp1.std()\n",
    "Mu2 = Samp2.mean()\n",
    "Sigma2 = Samp2.std()\n",
    "print(\"Sample 1_mean = \" + str(Mu1) + \"\\nSample 1_Standard deviation = \" + str(Sigma1) + \"\\nSample 2_mean = \"+str(Mu2) + \"\\nSample 2_Standard deviation = \" + str(Sigma2))"
   ]
  },
  {
   "cell_type": "code",
   "execution_count": null,
   "metadata": {},
   "outputs": [],
   "source": []
  }
 ],
 "metadata": {
  "kernelspec": {
   "display_name": "Python 3",
   "language": "python",
   "name": "python3"
  },
  "language_info": {
   "codemirror_mode": {
    "name": "ipython",
    "version": 3
   },
   "file_extension": ".py",
   "mimetype": "text/x-python",
   "name": "python",
   "nbconvert_exporter": "python",
   "pygments_lexer": "ipython3",
   "version": "3.6.7"
  }
 },
 "nbformat": 4,
 "nbformat_minor": 2
}
