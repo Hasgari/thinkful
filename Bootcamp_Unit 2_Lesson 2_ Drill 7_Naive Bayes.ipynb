{
 "cells": [
  {
   "cell_type": "code",
   "execution_count": 43,
   "metadata": {},
   "outputs": [],
   "source": [
    "import pandas as pd\n",
    "import numpy as np\n",
    "import io\n",
    "from sklearn.naive_bayes import BernoulliNB\n",
    "from sklearn.metrics import confusion_matrix"
   ]
  },
  {
   "cell_type": "code",
   "execution_count": 13,
   "metadata": {},
   "outputs": [
    {
     "name": "stdout",
     "output_type": "stream",
     "text": [
      "So there is no way for me to plug it in here in the US unless I go by a converter.\t0\n",
      "\n"
     ]
    }
   ],
   "source": [
    "with open(\"amazon_cells_labelled.txt\",\"r\") as file:\n",
    "    print(file.readlines()[0])"
   ]
  },
  {
   "cell_type": "code",
   "execution_count": 18,
   "metadata": {},
   "outputs": [],
   "source": [
    "df = pd.read_csv(\"amazon_cells_labelled.txt\",sep = \"\\t\",header = None)"
   ]
  },
  {
   "cell_type": "code",
   "execution_count": 19,
   "metadata": {},
   "outputs": [],
   "source": [
    "df.columns = [\"Sentence\", \"Opinion\"]"
   ]
  },
  {
   "cell_type": "code",
   "execution_count": 20,
   "metadata": {},
   "outputs": [
    {
     "data": {
      "text/html": [
       "<div>\n",
       "<style scoped>\n",
       "    .dataframe tbody tr th:only-of-type {\n",
       "        vertical-align: middle;\n",
       "    }\n",
       "\n",
       "    .dataframe tbody tr th {\n",
       "        vertical-align: top;\n",
       "    }\n",
       "\n",
       "    .dataframe thead th {\n",
       "        text-align: right;\n",
       "    }\n",
       "</style>\n",
       "<table border=\"1\" class=\"dataframe\">\n",
       "  <thead>\n",
       "    <tr style=\"text-align: right;\">\n",
       "      <th></th>\n",
       "      <th>Sentence</th>\n",
       "      <th>Opinion</th>\n",
       "    </tr>\n",
       "  </thead>\n",
       "  <tbody>\n",
       "    <tr>\n",
       "      <th>0</th>\n",
       "      <td>So there is no way for me to plug it in here i...</td>\n",
       "      <td>0</td>\n",
       "    </tr>\n",
       "    <tr>\n",
       "      <th>1</th>\n",
       "      <td>Good case, Excellent value.</td>\n",
       "      <td>1</td>\n",
       "    </tr>\n",
       "    <tr>\n",
       "      <th>2</th>\n",
       "      <td>Great for the jawbone.</td>\n",
       "      <td>1</td>\n",
       "    </tr>\n",
       "    <tr>\n",
       "      <th>3</th>\n",
       "      <td>Tied to charger for conversations lasting more...</td>\n",
       "      <td>0</td>\n",
       "    </tr>\n",
       "    <tr>\n",
       "      <th>4</th>\n",
       "      <td>The mic is great.</td>\n",
       "      <td>1</td>\n",
       "    </tr>\n",
       "  </tbody>\n",
       "</table>\n",
       "</div>"
      ],
      "text/plain": [
       "                                            Sentence  Opinion\n",
       "0  So there is no way for me to plug it in here i...        0\n",
       "1                        Good case, Excellent value.        1\n",
       "2                             Great for the jawbone.        1\n",
       "3  Tied to charger for conversations lasting more...        0\n",
       "4                                  The mic is great.        1"
      ]
     },
     "execution_count": 20,
     "metadata": {},
     "output_type": "execute_result"
    }
   ],
   "source": [
    "df.head(5)"
   ]
  },
  {
   "cell_type": "code",
   "execution_count": 31,
   "metadata": {},
   "outputs": [],
   "source": [
    "predictive_terms = [\"good\",\"satisfied\",\"perfect\",\"impressed\",\"amazing\",\"great deal\",\"great price\",\"comfortable\",\"excellent\",\"highly recommend\",\"works great\",\"works fine\",\"easy\",\"trouble\",\"horrible\",\"disappointing\",\"shout\",\"couldn't hear\",\"broke\",\"terrible\",\"poor\",\"waste\"]"
   ]
  },
  {
   "cell_type": "code",
   "execution_count": 32,
   "metadata": {},
   "outputs": [],
   "source": [
    "for var in predictive_terms:\n",
    "    df[var] = [1 if var in x.lower() else 0 for x in df[\"Sentence\"]]"
   ]
  },
  {
   "cell_type": "code",
   "execution_count": 33,
   "metadata": {},
   "outputs": [
    {
     "data": {
      "text/html": [
       "<div>\n",
       "<style scoped>\n",
       "    .dataframe tbody tr th:only-of-type {\n",
       "        vertical-align: middle;\n",
       "    }\n",
       "\n",
       "    .dataframe tbody tr th {\n",
       "        vertical-align: top;\n",
       "    }\n",
       "\n",
       "    .dataframe thead th {\n",
       "        text-align: right;\n",
       "    }\n",
       "</style>\n",
       "<table border=\"1\" class=\"dataframe\">\n",
       "  <thead>\n",
       "    <tr style=\"text-align: right;\">\n",
       "      <th></th>\n",
       "      <th>Sentence</th>\n",
       "      <th>Opinion</th>\n",
       "      <th>satisfied</th>\n",
       "      <th>perfect</th>\n",
       "      <th>impressed</th>\n",
       "      <th>amazing</th>\n",
       "      <th>great deal</th>\n",
       "      <th>great price</th>\n",
       "      <th>comfortable</th>\n",
       "      <th>excellent</th>\n",
       "      <th>...</th>\n",
       "      <th>disappointing</th>\n",
       "      <th>shout</th>\n",
       "      <th>couldn't hear</th>\n",
       "      <th>broke</th>\n",
       "      <th>terrible</th>\n",
       "      <th>poor</th>\n",
       "      <th>waste</th>\n",
       "      <th>works fine</th>\n",
       "      <th>trouble</th>\n",
       "      <th>good</th>\n",
       "    </tr>\n",
       "  </thead>\n",
       "  <tbody>\n",
       "    <tr>\n",
       "      <th>0</th>\n",
       "      <td>So there is no way for me to plug it in here i...</td>\n",
       "      <td>0</td>\n",
       "      <td>0</td>\n",
       "      <td>0</td>\n",
       "      <td>0</td>\n",
       "      <td>0</td>\n",
       "      <td>0</td>\n",
       "      <td>0</td>\n",
       "      <td>0</td>\n",
       "      <td>0</td>\n",
       "      <td>...</td>\n",
       "      <td>0</td>\n",
       "      <td>0</td>\n",
       "      <td>0</td>\n",
       "      <td>0</td>\n",
       "      <td>0</td>\n",
       "      <td>0</td>\n",
       "      <td>0</td>\n",
       "      <td>0</td>\n",
       "      <td>0</td>\n",
       "      <td>0</td>\n",
       "    </tr>\n",
       "    <tr>\n",
       "      <th>1</th>\n",
       "      <td>Good case, Excellent value.</td>\n",
       "      <td>1</td>\n",
       "      <td>0</td>\n",
       "      <td>0</td>\n",
       "      <td>0</td>\n",
       "      <td>0</td>\n",
       "      <td>0</td>\n",
       "      <td>0</td>\n",
       "      <td>0</td>\n",
       "      <td>1</td>\n",
       "      <td>...</td>\n",
       "      <td>0</td>\n",
       "      <td>0</td>\n",
       "      <td>0</td>\n",
       "      <td>0</td>\n",
       "      <td>0</td>\n",
       "      <td>0</td>\n",
       "      <td>0</td>\n",
       "      <td>0</td>\n",
       "      <td>0</td>\n",
       "      <td>1</td>\n",
       "    </tr>\n",
       "    <tr>\n",
       "      <th>2</th>\n",
       "      <td>Great for the jawbone.</td>\n",
       "      <td>1</td>\n",
       "      <td>0</td>\n",
       "      <td>0</td>\n",
       "      <td>0</td>\n",
       "      <td>0</td>\n",
       "      <td>0</td>\n",
       "      <td>0</td>\n",
       "      <td>0</td>\n",
       "      <td>0</td>\n",
       "      <td>...</td>\n",
       "      <td>0</td>\n",
       "      <td>0</td>\n",
       "      <td>0</td>\n",
       "      <td>0</td>\n",
       "      <td>0</td>\n",
       "      <td>0</td>\n",
       "      <td>0</td>\n",
       "      <td>0</td>\n",
       "      <td>0</td>\n",
       "      <td>0</td>\n",
       "    </tr>\n",
       "    <tr>\n",
       "      <th>3</th>\n",
       "      <td>Tied to charger for conversations lasting more...</td>\n",
       "      <td>0</td>\n",
       "      <td>0</td>\n",
       "      <td>0</td>\n",
       "      <td>0</td>\n",
       "      <td>0</td>\n",
       "      <td>0</td>\n",
       "      <td>0</td>\n",
       "      <td>0</td>\n",
       "      <td>0</td>\n",
       "      <td>...</td>\n",
       "      <td>0</td>\n",
       "      <td>0</td>\n",
       "      <td>0</td>\n",
       "      <td>0</td>\n",
       "      <td>0</td>\n",
       "      <td>0</td>\n",
       "      <td>0</td>\n",
       "      <td>0</td>\n",
       "      <td>0</td>\n",
       "      <td>0</td>\n",
       "    </tr>\n",
       "    <tr>\n",
       "      <th>4</th>\n",
       "      <td>The mic is great.</td>\n",
       "      <td>1</td>\n",
       "      <td>0</td>\n",
       "      <td>0</td>\n",
       "      <td>0</td>\n",
       "      <td>0</td>\n",
       "      <td>0</td>\n",
       "      <td>0</td>\n",
       "      <td>0</td>\n",
       "      <td>0</td>\n",
       "      <td>...</td>\n",
       "      <td>0</td>\n",
       "      <td>0</td>\n",
       "      <td>0</td>\n",
       "      <td>0</td>\n",
       "      <td>0</td>\n",
       "      <td>0</td>\n",
       "      <td>0</td>\n",
       "      <td>0</td>\n",
       "      <td>0</td>\n",
       "      <td>0</td>\n",
       "    </tr>\n",
       "  </tbody>\n",
       "</table>\n",
       "<p>5 rows × 24 columns</p>\n",
       "</div>"
      ],
      "text/plain": [
       "                                            Sentence  Opinion  satisfied  \\\n",
       "0  So there is no way for me to plug it in here i...        0          0   \n",
       "1                        Good case, Excellent value.        1          0   \n",
       "2                             Great for the jawbone.        1          0   \n",
       "3  Tied to charger for conversations lasting more...        0          0   \n",
       "4                                  The mic is great.        1          0   \n",
       "\n",
       "   perfect  impressed  amazing  great deal  great price  comfortable  \\\n",
       "0        0          0        0           0            0            0   \n",
       "1        0          0        0           0            0            0   \n",
       "2        0          0        0           0            0            0   \n",
       "3        0          0        0           0            0            0   \n",
       "4        0          0        0           0            0            0   \n",
       "\n",
       "   excellent  ...  disappointing  shout  couldn't hear  broke  terrible  poor  \\\n",
       "0          0  ...              0      0              0      0         0     0   \n",
       "1          1  ...              0      0              0      0         0     0   \n",
       "2          0  ...              0      0              0      0         0     0   \n",
       "3          0  ...              0      0              0      0         0     0   \n",
       "4          0  ...              0      0              0      0         0     0   \n",
       "\n",
       "   waste  works fine  trouble  good  \n",
       "0      0           0        0     0  \n",
       "1      0           0        0     1  \n",
       "2      0           0        0     0  \n",
       "3      0           0        0     0  \n",
       "4      0           0        0     0  \n",
       "\n",
       "[5 rows x 24 columns]"
      ]
     },
     "execution_count": 33,
     "metadata": {},
     "output_type": "execute_result"
    }
   ],
   "source": [
    "df.head(5)"
   ]
  },
  {
   "cell_type": "code",
   "execution_count": 37,
   "metadata": {},
   "outputs": [
    {
     "data": {
      "text/plain": [
       "BernoulliNB(alpha=1.0, binarize=0.0, class_prior=None, fit_prior=True)"
      ]
     },
     "execution_count": 37,
     "metadata": {},
     "output_type": "execute_result"
    }
   ],
   "source": [
    "bnb = BernoulliNB()\n",
    "x = df[predictive_terms]\n",
    "y = df[\"Opinion\"]\n",
    "bnb.fit(x,y)"
   ]
  },
  {
   "cell_type": "code",
   "execution_count": 38,
   "metadata": {},
   "outputs": [],
   "source": [
    "y_predicted = bnb.predict(x)"
   ]
  },
  {
   "cell_type": "code",
   "execution_count": 42,
   "metadata": {},
   "outputs": [
    {
     "name": "stdout",
     "output_type": "stream",
     "text": [
      "0.638\n"
     ]
    }
   ],
   "source": [
    "sum = 0\n",
    "for i in range(len(df[\"Sentence\"])):\n",
    "    if y[i]==y_predicted[i]:\n",
    "        sum += 1\n",
    "print (sum/len(df[\"Sentence\"]))"
   ]
  },
  {
   "cell_type": "code",
   "execution_count": 44,
   "metadata": {},
   "outputs": [
    {
     "data": {
      "text/plain": [
       "array([[476,  24],\n",
       "       [338, 162]])"
      ]
     },
     "execution_count": 44,
     "metadata": {},
     "output_type": "execute_result"
    }
   ],
   "source": [
    "confusion_matrix(y,y_predicted)"
   ]
  },
  {
   "cell_type": "code",
   "execution_count": 47,
   "metadata": {},
   "outputs": [
    {
     "name": "stdout",
     "output_type": "stream",
     "text": [
      "Correctly Labeled Cases in imdb_labelled.txt =  0.5614973262032086\n",
      "\n",
      "Confusion Matrix in imdb_labelled.txt =  [[ 37 325]\n",
      " [  3 383]]\n",
      "----------------------------------------\n",
      "Correctly Labeled Cases in yelp_labelled.txt =  0.599\n",
      "\n",
      "Confusion Matrix in yelp_labelled.txt =  [[478  22]\n",
      " [379 121]]\n",
      "----------------------------------------\n"
     ]
    }
   ],
   "source": [
    "files = [\"imdb_labelled.txt\",\"yelp_labelled.txt\"]\n",
    "for file in files:\n",
    "    df = pd.read_csv(file,sep = \"\\t\",header = None)\n",
    "    df.columns = [\"Sentence\", \"Opinion\"]\n",
    "    for var in predictive_terms:\n",
    "        df[var] = [1 if var in x.lower() else 0 for x in df[\"Sentence\"]]\n",
    "    bnb = BernoulliNB()\n",
    "    x = df[predictive_terms]\n",
    "    y = df[\"Opinion\"]\n",
    "    bnb.fit(x,y)\n",
    "    y_predicted = bnb.predict(x)\n",
    "    sum = 0\n",
    "    for i in range(len(df[\"Sentence\"])):\n",
    "        if y[i]==y_predicted[i]:\n",
    "            sum += 1\n",
    "    print (\"Correctly Labeled Cases in {} = \".format(file),sum/len(df[\"Sentence\"]))\n",
    "    print()\n",
    "    mat = confusion_matrix(y,y_predicted)\n",
    "    print (\"Confusion Matrix in {} = \".format(file),mat)\n",
    "    print(\"-\"*40)"
   ]
  },
  {
   "cell_type": "code",
   "execution_count": null,
   "metadata": {},
   "outputs": [],
   "source": []
  }
 ],
 "metadata": {
  "kernelspec": {
   "display_name": "Python 3",
   "language": "python",
   "name": "python3"
  },
  "language_info": {
   "codemirror_mode": {
    "name": "ipython",
    "version": 3
   },
   "file_extension": ".py",
   "mimetype": "text/x-python",
   "name": "python",
   "nbconvert_exporter": "python",
   "pygments_lexer": "ipython3",
   "version": "3.6.7"
  }
 },
 "nbformat": 4,
 "nbformat_minor": 2
}
