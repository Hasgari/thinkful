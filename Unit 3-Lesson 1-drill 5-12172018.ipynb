{
 "cells": [
  {
   "cell_type": "markdown",
   "metadata": {},
   "source": [
    "The objective of this assignment is to practice pandas and numpy descriptive statistics' tools including mean, standard deviation and standard error.In this regard we deal with a group of kids participating in a show, and try to describe age attributes when members are removed or replaced by new ones."
   ]
  },
  {
   "cell_type": "code",
   "execution_count": 1,
   "metadata": {},
   "outputs": [],
   "source": [
    "import numpy as np\n",
    "import pandas as pd"
   ]
  },
  {
   "cell_type": "code",
   "execution_count": 2,
   "metadata": {},
   "outputs": [],
   "source": [
    "age = {\"Greg\":14,\"Marcia\":12,\"Peter\":11,\"jan\":10,\"Bobby\":8, \"Cindy\":6,\"Oliver\":8}"
   ]
  },
  {
   "cell_type": "code",
   "execution_count": 3,
   "metadata": {},
   "outputs": [],
   "source": [
    "def describe(age):\n",
    "    x = list(age.values())\n",
    "    Mu = np.mean(x)\n",
    "    Std = np.std(x)\n",
    "    SE=(np.array(x)).std(ddof=1)\n",
    "    print(\"Mean = \" + str(Mu)+\"\\nStandard deviation = \"+str(Std)+\"\\nStandard Error = \"+str(SE))\n",
    "    return;"
   ]
  },
  {
   "cell_type": "code",
   "execution_count": 4,
   "metadata": {},
   "outputs": [
    {
     "name": "stdout",
     "output_type": "stream",
     "text": [
      "Mean = 9.857142857142858\n",
      "Standard deviation = 2.531435020952764\n",
      "Standard Error = 2.734262327610589\n"
     ]
    }
   ],
   "source": [
    "describe(age)"
   ]
  },
  {
   "cell_type": "code",
   "execution_count": 5,
   "metadata": {},
   "outputs": [
    {
     "name": "stdout",
     "output_type": "stream",
     "text": [
      "Mean = 10.5\n",
      "Standard deviation = 2.140872096444188\n",
      "Standard Error = 2.345207879911715\n"
     ]
    }
   ],
   "source": [
    "age_Cindy_removed = age\n",
    "del age_Cindy_removed[\"Cindy\"]\n",
    "describe(age_Cindy_removed)"
   ]
  },
  {
   "cell_type": "code",
   "execution_count": 6,
   "metadata": {},
   "outputs": [
    {
     "name": "stdout",
     "output_type": "stream",
     "text": [
      "Mean = 8.857142857142858\n",
      "Standard deviation = 4.015276949301485\n",
      "Standard Error = 4.3369947901195145\n"
     ]
    }
   ],
   "source": [
    "age = {\"Greg\":14,\"Marcia\":12,\"Peter\":11,\"jan\":10,\"Bobby\":8, \"Cindy\":6,\"Oliver\":8}\n",
    "age_Oliver_swapped_by_Jessica = age\n",
    "age_Oliver_swapped_by_Jessica[\"Jessica\"] = 1\n",
    "del age_Oliver_swapped_by_Jessica[\"Oliver\"]\n",
    "describe(age_Oliver_swapped_by_Jessica)\n"
   ]
  },
  {
   "cell_type": "code",
   "execution_count": null,
   "metadata": {},
   "outputs": [],
   "source": []
  }
 ],
 "metadata": {
  "kernelspec": {
   "display_name": "Python 3",
   "language": "python",
   "name": "python3"
  },
  "language_info": {
   "codemirror_mode": {
    "name": "ipython",
    "version": 3
   },
   "file_extension": ".py",
   "mimetype": "text/x-python",
   "name": "python",
   "nbconvert_exporter": "python",
   "pygments_lexer": "ipython3",
   "version": "3.6.7"
  }
 },
 "nbformat": 4,
 "nbformat_minor": 2
}
