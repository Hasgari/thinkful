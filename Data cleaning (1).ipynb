{
 "cells": [
  {
   "cell_type": "code",
   "execution_count": 1,
   "metadata": {},
   "outputs": [],
   "source": [
    "import pandas as pd\n",
    "import numpy as np\n",
    "import re as re"
   ]
  },
  {
   "cell_type": "code",
   "execution_count": 2,
   "metadata": {},
   "outputs": [],
   "source": [
    "df = pd.read_csv('Journal_data.csv',encoding = 'latin')"
   ]
  },
  {
   "cell_type": "code",
   "execution_count": 3,
   "metadata": {},
   "outputs": [
    {
     "data": {
      "text/html": [
       "<div>\n",
       "<style scoped>\n",
       "    .dataframe tbody tr th:only-of-type {\n",
       "        vertical-align: middle;\n",
       "    }\n",
       "\n",
       "    .dataframe tbody tr th {\n",
       "        vertical-align: top;\n",
       "    }\n",
       "\n",
       "    .dataframe thead th {\n",
       "        text-align: right;\n",
       "    }\n",
       "</style>\n",
       "<table border=\"1\" class=\"dataframe\">\n",
       "  <thead>\n",
       "    <tr style=\"text-align: right;\">\n",
       "      <th></th>\n",
       "      <th>PMID/PMCID</th>\n",
       "      <th>Publisher</th>\n",
       "      <th>Journal title</th>\n",
       "      <th>Article title</th>\n",
       "      <th>COST (£) charged to Wellcome (inc VAT when charged)</th>\n",
       "    </tr>\n",
       "  </thead>\n",
       "  <tbody>\n",
       "    <tr>\n",
       "      <th>0</th>\n",
       "      <td>NaN</td>\n",
       "      <td>CUP</td>\n",
       "      <td>Psychological Medicine</td>\n",
       "      <td>Reduced parahippocampal cortical thickness in ...</td>\n",
       "      <td>£0.00</td>\n",
       "    </tr>\n",
       "    <tr>\n",
       "      <th>1</th>\n",
       "      <td>PMC3679557</td>\n",
       "      <td>ACS</td>\n",
       "      <td>Biomacromolecules</td>\n",
       "      <td>Structural characterization of a Model Gram-ne...</td>\n",
       "      <td>£2381.04</td>\n",
       "    </tr>\n",
       "    <tr>\n",
       "      <th>2</th>\n",
       "      <td>23043264  PMC3506128</td>\n",
       "      <td>ACS</td>\n",
       "      <td>J Med Chem</td>\n",
       "      <td>Fumaroylamino-4,5-epoxymorphinans and related ...</td>\n",
       "      <td>£642.56</td>\n",
       "    </tr>\n",
       "    <tr>\n",
       "      <th>3</th>\n",
       "      <td>23438330 PMC3646402</td>\n",
       "      <td>ACS</td>\n",
       "      <td>J Med Chem</td>\n",
       "      <td>Orvinols with mixed kappa/mu opioid receptor a...</td>\n",
       "      <td>£669.64</td>\n",
       "    </tr>\n",
       "    <tr>\n",
       "      <th>4</th>\n",
       "      <td>23438216 PMC3601604</td>\n",
       "      <td>ACS</td>\n",
       "      <td>J Org Chem</td>\n",
       "      <td>Regioselective opening of myo-inositol orthoes...</td>\n",
       "      <td>£685.88</td>\n",
       "    </tr>\n",
       "    <tr>\n",
       "      <th>5</th>\n",
       "      <td>PMC3579457</td>\n",
       "      <td>ACS</td>\n",
       "      <td>Journal of Medicinal Chemistry</td>\n",
       "      <td>Comparative Structural and Functional Studies ...</td>\n",
       "      <td>£2392.20</td>\n",
       "    </tr>\n",
       "    <tr>\n",
       "      <th>6</th>\n",
       "      <td>PMC3709265</td>\n",
       "      <td>ACS</td>\n",
       "      <td>Journal of Proteome Research</td>\n",
       "      <td>Mapping Proteolytic Processing in the Secretom...</td>\n",
       "      <td>£2367.95</td>\n",
       "    </tr>\n",
       "    <tr>\n",
       "      <th>7</th>\n",
       "      <td>23057412 PMC3495574</td>\n",
       "      <td>ACS</td>\n",
       "      <td>Mol Pharm</td>\n",
       "      <td>Quantitative silencing of EGFP reporter gene b...</td>\n",
       "      <td>£649.33</td>\n",
       "    </tr>\n",
       "    <tr>\n",
       "      <th>8</th>\n",
       "      <td>PMCID: PMC3780468</td>\n",
       "      <td>ACS (Amercian Chemical Society) Publications</td>\n",
       "      <td>ACS Chemical Biology</td>\n",
       "      <td>A Novel Allosteric Inhibitor of the Uridine Di...</td>\n",
       "      <td>£1294.59</td>\n",
       "    </tr>\n",
       "    <tr>\n",
       "      <th>9</th>\n",
       "      <td>PMCID: PMC3621575</td>\n",
       "      <td>ACS (Amercian Chemical Society) Publications</td>\n",
       "      <td>ACS Chemical Biology</td>\n",
       "      <td>Chemical proteomic analysis reveals the drugab...</td>\n",
       "      <td>£1294.78</td>\n",
       "    </tr>\n",
       "  </tbody>\n",
       "</table>\n",
       "</div>"
      ],
      "text/plain": [
       "              PMID/PMCID                                     Publisher  \\\n",
       "0                    NaN                                           CUP   \n",
       "1             PMC3679557                                           ACS   \n",
       "2  23043264  PMC3506128                                            ACS   \n",
       "3    23438330 PMC3646402                                           ACS   \n",
       "4   23438216 PMC3601604                                            ACS   \n",
       "5             PMC3579457                                           ACS   \n",
       "6             PMC3709265                                           ACS   \n",
       "7   23057412 PMC3495574                                            ACS   \n",
       "8      PMCID: PMC3780468  ACS (Amercian Chemical Society) Publications   \n",
       "9      PMCID: PMC3621575  ACS (Amercian Chemical Society) Publications   \n",
       "\n",
       "                    Journal title  \\\n",
       "0          Psychological Medicine   \n",
       "1               Biomacromolecules   \n",
       "2                      J Med Chem   \n",
       "3                      J Med Chem   \n",
       "4                      J Org Chem   \n",
       "5  Journal of Medicinal Chemistry   \n",
       "6    Journal of Proteome Research   \n",
       "7                       Mol Pharm   \n",
       "8            ACS Chemical Biology   \n",
       "9            ACS Chemical Biology   \n",
       "\n",
       "                                       Article title  \\\n",
       "0  Reduced parahippocampal cortical thickness in ...   \n",
       "1  Structural characterization of a Model Gram-ne...   \n",
       "2  Fumaroylamino-4,5-epoxymorphinans and related ...   \n",
       "3  Orvinols with mixed kappa/mu opioid receptor a...   \n",
       "4  Regioselective opening of myo-inositol orthoes...   \n",
       "5  Comparative Structural and Functional Studies ...   \n",
       "6  Mapping Proteolytic Processing in the Secretom...   \n",
       "7  Quantitative silencing of EGFP reporter gene b...   \n",
       "8  A Novel Allosteric Inhibitor of the Uridine Di...   \n",
       "9  Chemical proteomic analysis reveals the drugab...   \n",
       "\n",
       "  COST (£) charged to Wellcome (inc VAT when charged)  \n",
       "0                                              £0.00   \n",
       "1                                           £2381.04   \n",
       "2                                            £642.56   \n",
       "3                                            £669.64   \n",
       "4                                            £685.88   \n",
       "5                                           £2392.20   \n",
       "6                                           £2367.95   \n",
       "7                                            £649.33   \n",
       "8                                           £1294.59   \n",
       "9                                           £1294.78   "
      ]
     },
     "execution_count": 3,
     "metadata": {},
     "output_type": "execute_result"
    }
   ],
   "source": [
    "df.head(10)"
   ]
  },
  {
   "cell_type": "code",
   "execution_count": 4,
   "metadata": {},
   "outputs": [
    {
     "name": "stdout",
     "output_type": "stream",
     "text": [
      "['£0.00' '£2381.04' '£642.56' ... '£2015.72' '£1334.15' '£2034.75']\n"
     ]
    }
   ],
   "source": [
    "print(df[\"COST (£) charged to Wellcome (inc VAT when charged)\"].unique())"
   ]
  },
  {
   "cell_type": "markdown",
   "metadata": {},
   "source": [
    "Step 1: Remove the beginning currency sign from cost"
   ]
  },
  {
   "cell_type": "code",
   "execution_count": 5,
   "metadata": {},
   "outputs": [],
   "source": [
    "def remove_sign(x):\n",
    "    if str(x)[0].isdigit() == False:\n",
    "        x = str(x)[1:]\n",
    "    if str(x)[-1].isdigit() == False:\n",
    "        x=str(x[:-2])\n",
    "    return (x)"
   ]
  },
  {
   "cell_type": "code",
   "execution_count": 6,
   "metadata": {},
   "outputs": [],
   "source": [
    "df[\"numeric_cost\"] =   df[\"COST (£) charged to Wellcome (inc VAT when charged)\"].apply(lambda x : remove_sign(x) )"
   ]
  },
  {
   "cell_type": "code",
   "execution_count": 7,
   "metadata": {},
   "outputs": [
    {
     "name": "stdout",
     "output_type": "stream",
     "text": [
      "['0.00' '2381.04' '642.56' ... '2015.72' '1334.15' '2034.75']\n"
     ]
    }
   ],
   "source": [
    "print (df[\"numeric_cost\"].unique())"
   ]
  },
  {
   "cell_type": "markdown",
   "metadata": {},
   "source": [
    "Step 2: Make sure the only non-numeric sign remaining is the \".\""
   ]
  },
  {
   "cell_type": "code",
   "execution_count": 9,
   "metadata": {},
   "outputs": [],
   "source": [
    "def check(x):\n",
    "    for i in str(x):\n",
    "        result = True\n",
    "        if i.isdigit()== False and i !=\".\":\n",
    "            result = False\n",
    "    return result\n",
    "    "
   ]
  },
  {
   "cell_type": "code",
   "execution_count": 10,
   "metadata": {},
   "outputs": [
    {
     "data": {
      "text/html": [
       "<div>\n",
       "<style scoped>\n",
       "    .dataframe tbody tr th:only-of-type {\n",
       "        vertical-align: middle;\n",
       "    }\n",
       "\n",
       "    .dataframe tbody tr th {\n",
       "        vertical-align: top;\n",
       "    }\n",
       "\n",
       "    .dataframe thead th {\n",
       "        text-align: right;\n",
       "    }\n",
       "</style>\n",
       "<table border=\"1\" class=\"dataframe\">\n",
       "  <thead>\n",
       "    <tr style=\"text-align: right;\">\n",
       "      <th></th>\n",
       "      <th>PMID/PMCID</th>\n",
       "      <th>Publisher</th>\n",
       "      <th>Journal title</th>\n",
       "      <th>Article title</th>\n",
       "      <th>COST (£) charged to Wellcome (inc VAT when charged)</th>\n",
       "      <th>numeric_cost</th>\n",
       "    </tr>\n",
       "  </thead>\n",
       "  <tbody>\n",
       "  </tbody>\n",
       "</table>\n",
       "</div>"
      ],
      "text/plain": [
       "Empty DataFrame\n",
       "Columns: [PMID/PMCID, Publisher, Journal title, Article title, COST (£) charged to Wellcome (inc VAT when charged), numeric_cost]\n",
       "Index: []"
      ]
     },
     "execution_count": 10,
     "metadata": {},
     "output_type": "execute_result"
    }
   ],
   "source": [
    "df[df[\"numeric_cost\"].apply(lambda x:check(x))==False].head(10)"
   ]
  },
  {
   "cell_type": "markdown",
   "metadata": {},
   "source": [
    "Step 4: Convert the string costs into numeric."
   ]
  },
  {
   "cell_type": "code",
   "execution_count": 12,
   "metadata": {},
   "outputs": [],
   "source": [
    "df[\"numeric_cost\"] = df[\"numeric_cost\"].astype('float')"
   ]
  },
  {
   "cell_type": "code",
   "execution_count": 13,
   "metadata": {},
   "outputs": [
    {
     "data": {
      "text/plain": [
       "array([   0.  , 2381.04,  642.56, ..., 2015.72, 1334.15, 2034.75])"
      ]
     },
     "execution_count": 13,
     "metadata": {},
     "output_type": "execute_result"
    }
   ],
   "source": [
    "df[\"numeric_cost\"].unique()"
   ]
  },
  {
   "cell_type": "code",
   "execution_count": 15,
   "metadata": {},
   "outputs": [],
   "source": [
    "df[\"Journal title_cleaned\"] = df[\"Journal title\"].str.lower().str.strip()"
   ]
  },
  {
   "cell_type": "code",
   "execution_count": 16,
   "metadata": {},
   "outputs": [],
   "source": [
    "df[\"Journal title_cleaned\"] = df[\"Journal title_cleaned\"].apply(lambda x : re.sub(' +',' ',str(x)))"
   ]
  },
  {
   "cell_type": "code",
   "execution_count": 17,
   "metadata": {},
   "outputs": [
    {
     "data": {
      "text/plain": [
       "Journal title_cleaned\n",
       "academy of nutrition and dietetics                                                         1\n",
       "acs chemical biology                                                                       5\n",
       "acs chemical neuroscience                                                                  1\n",
       "acs nano                                                                                   2\n",
       "acta crystallographica section d, biological crystallography                               1\n",
       "acta crystallographica section d: biological crystallography                               1\n",
       "acta crystallographica section f: structural biology and crystallization communications    2\n",
       "acta crystallographica, section d                                                          1\n",
       "acta crystallography d                                                                     1\n",
       "acta d                                                                                     1\n",
       "acta dermato venereologica                                                                 1\n",
       "acta diabetologica                                                                         1\n",
       "acta f                                                                                     1\n",
       "acta neuropathol                                                                           1\n",
       "acta neuropathologica                                                                      3\n",
       "acta opthalmologica                                                                        1\n",
       "acta physiol                                                                               1\n",
       "addiction                                                                                  2\n",
       "advances in experimental medicine and biology                                              4\n",
       "age                                                                                        2\n",
       "age and ageing                                                                             1\n",
       "ageing & society                                                                           1\n",
       "aging cell                                                                                 1\n",
       "aids                                                                                       3\n",
       "aids behav                                                                                 1\n",
       "aids care                                                                                  4\n",
       "aids journal                                                                               1\n",
       "aids research and therapy                                                                  1\n",
       "aids uk                                                                                    2\n",
       "alcohol and alcoholism                                                                     1\n",
       "                                                                                          ..\n",
       "tissue engineering: part a                                                                 1\n",
       "traffic                                                                                    6\n",
       "transactions of the royal society of tropical medicine and hygiene                         1\n",
       "translational psychiatry                                                                   2\n",
       "trends in cognitive science                                                                1\n",
       "trends in genetics                                                                         2\n",
       "trends in microbiology                                                                     1\n",
       "trends in molecular medicine                                                               1\n",
       "trends in neuroscience                                                                     1\n",
       "trends in neurosciences                                                                    2\n",
       "trends in parasitology                                                                     4\n",
       "trials                                                                                     5\n",
       "trop med int health                                                                        1\n",
       "tropical animal health & production                                                        1\n",
       "tropical medicine and international health                                                 6\n",
       "tuberculosis                                                                               2\n",
       "urban history                                                                              1\n",
       "urolithiasis                                                                               1\n",
       "vaccine                                                                                    5\n",
       "vascular pharmacology                                                                      1\n",
       "veterinary microbiology                                                                    1\n",
       "veterinary parasitology                                                                    2\n",
       "veterinary record                                                                          1\n",
       "veterinary research                                                                        1\n",
       "virology                                                                                   2\n",
       "virology journal                                                                           1\n",
       "virus research                                                                             1\n",
       "vision research                                                                            2\n",
       "visual neuroscience                                                                        1\n",
       "zoonoses and public health                                                                 1\n",
       "Length: 892, dtype: int64"
      ]
     },
     "execution_count": 17,
     "metadata": {},
     "output_type": "execute_result"
    }
   ],
   "source": [
    "df.groupby(\"Journal title_cleaned\").size()"
   ]
  },
  {
   "cell_type": "code",
   "execution_count": null,
   "metadata": {},
   "outputs": [],
   "source": []
  }
 ],
 "metadata": {
  "kernelspec": {
   "display_name": "Python 3",
   "language": "python",
   "name": "python3"
  },
  "language_info": {
   "codemirror_mode": {
    "name": "ipython",
    "version": 3
   },
   "file_extension": ".py",
   "mimetype": "text/x-python",
   "name": "python",
   "nbconvert_exporter": "python",
   "pygments_lexer": "ipython3",
   "version": "3.6.7"
  }
 },
 "nbformat": 4,
 "nbformat_minor": 2
}
