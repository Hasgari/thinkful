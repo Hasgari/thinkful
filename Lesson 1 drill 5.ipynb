{
 "cells": [
  {
   "cell_type": "code",
   "execution_count": 3,
   "metadata": {},
   "outputs": [],
   "source": [
    "import numpy as np\n",
    "import pandas as pd"
   ]
  },
  {
   "cell_type": "code",
   "execution_count": 4,
   "metadata": {},
   "outputs": [],
   "source": [
    "age = {\"Greg\":14,\"Marcia\":12,\"Peter\":11,\"jan\":10,\"Bobby\":8, \"Cindy\":6,\"Oliver\":8}"
   ]
  },
  {
   "cell_type": "code",
   "execution_count": 9,
   "metadata": {},
   "outputs": [],
   "source": [
    "def describe(age):\n",
    "    x = list(age.values())\n",
    "    Mu = np.mean(x)\n",
    "    Std = np.std(x)\n",
    "    SE=(np.array(x)).std(ddof=1)\n",
    "    print(str(Mu)+\"\\n\"+str(Std)+\"\\n\"+str(SE))\n",
    "    return;"
   ]
  },
  {
   "cell_type": "code",
   "execution_count": 10,
   "metadata": {},
   "outputs": [
    {
     "name": "stdout",
     "output_type": "stream",
     "text": [
      "9.857142857142858\n",
      "2.531435020952764\n",
      "2.734262327610589\n"
     ]
    }
   ],
   "source": [
    "describe(age)"
   ]
  },
  {
   "cell_type": "code",
   "execution_count": 11,
   "metadata": {},
   "outputs": [
    {
     "name": "stdout",
     "output_type": "stream",
     "text": [
      "10.5\n",
      "2.140872096444188\n",
      "2.345207879911715\n"
     ]
    }
   ],
   "source": [
    "age_Cindy_removed = age\n",
    "del age_Cindy_removed[\"Cindy\"]\n",
    "describe(age_Cindy_removed)"
   ]
  },
  {
   "cell_type": "code",
   "execution_count": 32,
   "metadata": {},
   "outputs": [
    {
     "name": "stdout",
     "output_type": "stream",
     "text": [
      "8.857142857142858\n",
      "4.015276949301485\n",
      "4.3369947901195145\n"
     ]
    }
   ],
   "source": [
    "age = {\"Greg\":14,\"Marcia\":12,\"Peter\":11,\"jan\":10,\"Bobby\":8, \"Cindy\":6,\"Oliver\":8}\n",
    "age_Oliver_swapped_by_Jessica = age\n",
    "age_Oliver_swapped_by_Jessica[\"Jessica\"] = 1\n",
    "del age_Oliver_swapped_by_Jessica[\"Oliver\"]\n",
    "describe(age_Oliver_swapped_by_Jessica)\n"
   ]
  },
  {
   "cell_type": "code",
   "execution_count": 29,
   "metadata": {},
   "outputs": [
    {
     "name": "stdout",
     "output_type": "stream",
     "text": [
      "{'Greg': 14, 'Marcia': 12, 'Peter': 11, 'jan': 10, 'Bobby': 8, 'Jessica': 1}\n"
     ]
    }
   ],
   "source": []
  },
  {
   "cell_type": "code",
   "execution_count": null,
   "metadata": {},
   "outputs": [],
   "source": []
  }
 ],
 "metadata": {
  "kernelspec": {
   "display_name": "Python 3",
   "language": "python",
   "name": "python3"
  },
  "language_info": {
   "codemirror_mode": {
    "name": "ipython",
    "version": 3
   },
   "file_extension": ".py",
   "mimetype": "text/x-python",
   "name": "python",
   "nbconvert_exporter": "python",
   "pygments_lexer": "ipython3",
   "version": "3.6.7"
  }
 },
 "nbformat": 4,
 "nbformat_minor": 2
}
